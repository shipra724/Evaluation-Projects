{
 "cells": [
  {
   "cell_type": "markdown",
   "id": "a1bd91da",
   "metadata": {},
   "source": [
    "# Problem Statement"
   ]
  },
  {
   "cell_type": "raw",
   "id": "99d2400d",
   "metadata": {},
   "source": [
    "The Global Power Plant Database is a comprehensive, open source database of power plants around the world. It centralizes power plant data to make it easier to navigate, compare and draw insights for one’s own analysis. The database covers approximately 35,000 power plants from 167 countries and includes thermal plants (e.g. coal, gas, oil, nuclear, biomass, waste, geothermal) and renewables (e.g. hydro, wind, solar). Each power plant is geolocated and entries contain information on plant capacity, generation, ownership, and fuel type. It will be continuously updated as data becomes available."
   ]
  },
  {
   "cell_type": "code",
   "execution_count": 1,
   "id": "98c52aaf",
   "metadata": {},
   "outputs": [],
   "source": [
    "# import libraries\n",
    "import pandas as pd\n",
    "import numpy as np\n",
    "import matplotlib.pyplot as plt\n",
    "import seaborn as sns\n",
    "import warnings\n",
    "warnings.filterwarnings(\"ignore\")\n",
    "warnings.filterwarnings(\"ignore\",category=DeprecationWarning)"
   ]
  },
  {
   "cell_type": "code",
   "execution_count": 2,
   "id": "f6538bce",
   "metadata": {},
   "outputs": [],
   "source": [
    "# Load the Dataset\n",
    "df=pd.read_csv(r\"G:\\shipra\\Fliprobo internship\\global_power_plant.csv\")"
   ]
  },
  {
   "cell_type": "code",
   "execution_count": 3,
   "id": "22035a39",
   "metadata": {},
   "outputs": [
    {
     "data": {
      "text/html": [
       "<div>\n",
       "<style scoped>\n",
       "    .dataframe tbody tr th:only-of-type {\n",
       "        vertical-align: middle;\n",
       "    }\n",
       "\n",
       "    .dataframe tbody tr th {\n",
       "        vertical-align: top;\n",
       "    }\n",
       "\n",
       "    .dataframe thead th {\n",
       "        text-align: right;\n",
       "    }\n",
       "</style>\n",
       "<table border=\"1\" class=\"dataframe\">\n",
       "  <thead>\n",
       "    <tr style=\"text-align: right;\">\n",
       "      <th></th>\n",
       "      <th>country</th>\n",
       "      <th>country_long</th>\n",
       "      <th>name</th>\n",
       "      <th>gppd_idnr</th>\n",
       "      <th>capacity_mw</th>\n",
       "      <th>latitude</th>\n",
       "      <th>longitude</th>\n",
       "      <th>primary_fuel</th>\n",
       "      <th>other_fuel1</th>\n",
       "      <th>other_fuel2</th>\n",
       "      <th>...</th>\n",
       "      <th>year_of_capacity_data</th>\n",
       "      <th>generation_gwh_2013</th>\n",
       "      <th>generation_gwh_2014</th>\n",
       "      <th>generation_gwh_2015</th>\n",
       "      <th>generation_gwh_2016</th>\n",
       "      <th>generation_gwh_2017</th>\n",
       "      <th>generation_gwh_2018</th>\n",
       "      <th>generation_gwh_2019</th>\n",
       "      <th>generation_data_source</th>\n",
       "      <th>estimated_generation_gwh</th>\n",
       "    </tr>\n",
       "  </thead>\n",
       "  <tbody>\n",
       "    <tr>\n",
       "      <th>0</th>\n",
       "      <td>IND</td>\n",
       "      <td>India</td>\n",
       "      <td>ACME Solar Tower</td>\n",
       "      <td>WRI1020239</td>\n",
       "      <td>2.5</td>\n",
       "      <td>28.1839</td>\n",
       "      <td>73.2407</td>\n",
       "      <td>Solar</td>\n",
       "      <td>NaN</td>\n",
       "      <td>NaN</td>\n",
       "      <td>...</td>\n",
       "      <td>NaN</td>\n",
       "      <td>NaN</td>\n",
       "      <td>NaN</td>\n",
       "      <td>NaN</td>\n",
       "      <td>NaN</td>\n",
       "      <td>NaN</td>\n",
       "      <td>NaN</td>\n",
       "      <td>NaN</td>\n",
       "      <td>NaN</td>\n",
       "      <td>NaN</td>\n",
       "    </tr>\n",
       "    <tr>\n",
       "      <th>1</th>\n",
       "      <td>IND</td>\n",
       "      <td>India</td>\n",
       "      <td>ADITYA CEMENT WORKS</td>\n",
       "      <td>WRI1019881</td>\n",
       "      <td>98.0</td>\n",
       "      <td>24.7663</td>\n",
       "      <td>74.6090</td>\n",
       "      <td>Coal</td>\n",
       "      <td>NaN</td>\n",
       "      <td>NaN</td>\n",
       "      <td>...</td>\n",
       "      <td>NaN</td>\n",
       "      <td>NaN</td>\n",
       "      <td>NaN</td>\n",
       "      <td>NaN</td>\n",
       "      <td>NaN</td>\n",
       "      <td>NaN</td>\n",
       "      <td>NaN</td>\n",
       "      <td>NaN</td>\n",
       "      <td>NaN</td>\n",
       "      <td>NaN</td>\n",
       "    </tr>\n",
       "    <tr>\n",
       "      <th>2</th>\n",
       "      <td>IND</td>\n",
       "      <td>India</td>\n",
       "      <td>AES Saurashtra Windfarms</td>\n",
       "      <td>WRI1026669</td>\n",
       "      <td>39.2</td>\n",
       "      <td>21.9038</td>\n",
       "      <td>69.3732</td>\n",
       "      <td>Wind</td>\n",
       "      <td>NaN</td>\n",
       "      <td>NaN</td>\n",
       "      <td>...</td>\n",
       "      <td>NaN</td>\n",
       "      <td>NaN</td>\n",
       "      <td>NaN</td>\n",
       "      <td>NaN</td>\n",
       "      <td>NaN</td>\n",
       "      <td>NaN</td>\n",
       "      <td>NaN</td>\n",
       "      <td>NaN</td>\n",
       "      <td>NaN</td>\n",
       "      <td>NaN</td>\n",
       "    </tr>\n",
       "    <tr>\n",
       "      <th>3</th>\n",
       "      <td>IND</td>\n",
       "      <td>India</td>\n",
       "      <td>AGARTALA GT</td>\n",
       "      <td>IND0000001</td>\n",
       "      <td>135.0</td>\n",
       "      <td>23.8712</td>\n",
       "      <td>91.3602</td>\n",
       "      <td>Gas</td>\n",
       "      <td>NaN</td>\n",
       "      <td>NaN</td>\n",
       "      <td>...</td>\n",
       "      <td>2019.0</td>\n",
       "      <td>NaN</td>\n",
       "      <td>617.789264</td>\n",
       "      <td>843.747</td>\n",
       "      <td>886.004428</td>\n",
       "      <td>663.774500</td>\n",
       "      <td>626.239128</td>\n",
       "      <td>NaN</td>\n",
       "      <td>Central Electricity Authority</td>\n",
       "      <td>NaN</td>\n",
       "    </tr>\n",
       "    <tr>\n",
       "      <th>4</th>\n",
       "      <td>IND</td>\n",
       "      <td>India</td>\n",
       "      <td>AKALTARA TPP</td>\n",
       "      <td>IND0000002</td>\n",
       "      <td>1800.0</td>\n",
       "      <td>21.9603</td>\n",
       "      <td>82.4091</td>\n",
       "      <td>Coal</td>\n",
       "      <td>Oil</td>\n",
       "      <td>NaN</td>\n",
       "      <td>...</td>\n",
       "      <td>2019.0</td>\n",
       "      <td>NaN</td>\n",
       "      <td>3035.550000</td>\n",
       "      <td>5916.370</td>\n",
       "      <td>6243.000000</td>\n",
       "      <td>5385.579736</td>\n",
       "      <td>7279.000000</td>\n",
       "      <td>NaN</td>\n",
       "      <td>Central Electricity Authority</td>\n",
       "      <td>NaN</td>\n",
       "    </tr>\n",
       "  </tbody>\n",
       "</table>\n",
       "<p>5 rows × 27 columns</p>\n",
       "</div>"
      ],
      "text/plain": [
       "  country country_long                      name   gppd_idnr  capacity_mw  \\\n",
       "0     IND        India          ACME Solar Tower  WRI1020239          2.5   \n",
       "1     IND        India       ADITYA CEMENT WORKS  WRI1019881         98.0   \n",
       "2     IND        India  AES Saurashtra Windfarms  WRI1026669         39.2   \n",
       "3     IND        India               AGARTALA GT  IND0000001        135.0   \n",
       "4     IND        India              AKALTARA TPP  IND0000002       1800.0   \n",
       "\n",
       "   latitude  longitude primary_fuel other_fuel1 other_fuel2  ...  \\\n",
       "0   28.1839    73.2407        Solar         NaN         NaN  ...   \n",
       "1   24.7663    74.6090         Coal         NaN         NaN  ...   \n",
       "2   21.9038    69.3732         Wind         NaN         NaN  ...   \n",
       "3   23.8712    91.3602          Gas         NaN         NaN  ...   \n",
       "4   21.9603    82.4091         Coal         Oil         NaN  ...   \n",
       "\n",
       "   year_of_capacity_data  generation_gwh_2013 generation_gwh_2014  \\\n",
       "0                    NaN                  NaN                 NaN   \n",
       "1                    NaN                  NaN                 NaN   \n",
       "2                    NaN                  NaN                 NaN   \n",
       "3                 2019.0                  NaN          617.789264   \n",
       "4                 2019.0                  NaN         3035.550000   \n",
       "\n",
       "  generation_gwh_2015 generation_gwh_2016 generation_gwh_2017  \\\n",
       "0                 NaN                 NaN                 NaN   \n",
       "1                 NaN                 NaN                 NaN   \n",
       "2                 NaN                 NaN                 NaN   \n",
       "3             843.747          886.004428          663.774500   \n",
       "4            5916.370         6243.000000         5385.579736   \n",
       "\n",
       "   generation_gwh_2018  generation_gwh_2019         generation_data_source  \\\n",
       "0                  NaN                  NaN                            NaN   \n",
       "1                  NaN                  NaN                            NaN   \n",
       "2                  NaN                  NaN                            NaN   \n",
       "3           626.239128                  NaN  Central Electricity Authority   \n",
       "4          7279.000000                  NaN  Central Electricity Authority   \n",
       "\n",
       "   estimated_generation_gwh  \n",
       "0                       NaN  \n",
       "1                       NaN  \n",
       "2                       NaN  \n",
       "3                       NaN  \n",
       "4                       NaN  \n",
       "\n",
       "[5 rows x 27 columns]"
      ]
     },
     "execution_count": 3,
     "metadata": {},
     "output_type": "execute_result"
    }
   ],
   "source": [
    "df.head()"
   ]
  },
  {
   "cell_type": "code",
   "execution_count": 4,
   "id": "54c2b6e8",
   "metadata": {},
   "outputs": [
    {
     "data": {
      "text/plain": [
       "Index(['country', 'country_long', 'name', 'gppd_idnr', 'capacity_mw',\n",
       "       'latitude', 'longitude', 'primary_fuel', 'other_fuel1', 'other_fuel2',\n",
       "       'other_fuel3', 'commissioning_year', 'owner', 'source', 'url',\n",
       "       'geolocation_source', 'wepp_id', 'year_of_capacity_data',\n",
       "       'generation_gwh_2013', 'generation_gwh_2014', 'generation_gwh_2015',\n",
       "       'generation_gwh_2016', 'generation_gwh_2017', 'generation_gwh_2018',\n",
       "       'generation_gwh_2019', 'generation_data_source',\n",
       "       'estimated_generation_gwh'],\n",
       "      dtype='object')"
      ]
     },
     "execution_count": 4,
     "metadata": {},
     "output_type": "execute_result"
    }
   ],
   "source": [
    "# column names\n",
    "df.columns"
   ]
  },
  {
   "cell_type": "code",
   "execution_count": 5,
   "id": "87cb70c7",
   "metadata": {},
   "outputs": [
    {
     "data": {
      "text/plain": [
       "(907, 27)"
      ]
     },
     "execution_count": 5,
     "metadata": {},
     "output_type": "execute_result"
    }
   ],
   "source": [
    "# Checking for the shape of the dataset:\n",
    "\n",
    "df.shape"
   ]
  },
  {
   "cell_type": "markdown",
   "id": "a1844659",
   "metadata": {},
   "source": [
    "1. There are 907 rows and 27 columns present in the database.\n",
    "2. There are 2 target columns- primary_fuel and capacity_mw"
   ]
  },
  {
   "cell_type": "code",
   "execution_count": 6,
   "id": "af060bbf",
   "metadata": {},
   "outputs": [
    {
     "data": {
      "text/plain": [
       "country                      object\n",
       "country_long                 object\n",
       "name                         object\n",
       "gppd_idnr                    object\n",
       "capacity_mw                 float64\n",
       "latitude                    float64\n",
       "longitude                   float64\n",
       "primary_fuel                 object\n",
       "other_fuel1                  object\n",
       "other_fuel2                  object\n",
       "other_fuel3                 float64\n",
       "commissioning_year          float64\n",
       "owner                        object\n",
       "source                       object\n",
       "url                          object\n",
       "geolocation_source           object\n",
       "wepp_id                     float64\n",
       "year_of_capacity_data       float64\n",
       "generation_gwh_2013         float64\n",
       "generation_gwh_2014         float64\n",
       "generation_gwh_2015         float64\n",
       "generation_gwh_2016         float64\n",
       "generation_gwh_2017         float64\n",
       "generation_gwh_2018         float64\n",
       "generation_gwh_2019         float64\n",
       "generation_data_source       object\n",
       "estimated_generation_gwh    float64\n",
       "dtype: object"
      ]
     },
     "execution_count": 6,
     "metadata": {},
     "output_type": "execute_result"
    }
   ],
   "source": [
    "# checking the datatypes of the dataset\n",
    "df.dtypes"
   ]
  },
  {
   "cell_type": "markdown",
   "id": "dfa49e78",
   "metadata": {},
   "source": [
    "Out of total 27 columns, 14 columns are of float datatye and 13 columns are of object datatype."
   ]
  },
  {
   "cell_type": "code",
   "execution_count": 7,
   "id": "883f2b92",
   "metadata": {},
   "outputs": [
    {
     "name": "stdout",
     "output_type": "stream",
     "text": [
      "<class 'pandas.core.frame.DataFrame'>\n",
      "RangeIndex: 907 entries, 0 to 906\n",
      "Data columns (total 27 columns):\n",
      " #   Column                    Non-Null Count  Dtype  \n",
      "---  ------                    --------------  -----  \n",
      " 0   country                   907 non-null    object \n",
      " 1   country_long              907 non-null    object \n",
      " 2   name                      907 non-null    object \n",
      " 3   gppd_idnr                 907 non-null    object \n",
      " 4   capacity_mw               907 non-null    float64\n",
      " 5   latitude                  861 non-null    float64\n",
      " 6   longitude                 861 non-null    float64\n",
      " 7   primary_fuel              907 non-null    object \n",
      " 8   other_fuel1               198 non-null    object \n",
      " 9   other_fuel2               1 non-null      object \n",
      " 10  other_fuel3               0 non-null      float64\n",
      " 11  commissioning_year        527 non-null    float64\n",
      " 12  owner                     342 non-null    object \n",
      " 13  source                    907 non-null    object \n",
      " 14  url                       907 non-null    object \n",
      " 15  geolocation_source        888 non-null    object \n",
      " 16  wepp_id                   0 non-null      float64\n",
      " 17  year_of_capacity_data     519 non-null    float64\n",
      " 18  generation_gwh_2013       0 non-null      float64\n",
      " 19  generation_gwh_2014       398 non-null    float64\n",
      " 20  generation_gwh_2015       422 non-null    float64\n",
      " 21  generation_gwh_2016       434 non-null    float64\n",
      " 22  generation_gwh_2017       440 non-null    float64\n",
      " 23  generation_gwh_2018       448 non-null    float64\n",
      " 24  generation_gwh_2019       0 non-null      float64\n",
      " 25  generation_data_source    449 non-null    object \n",
      " 26  estimated_generation_gwh  0 non-null      float64\n",
      "dtypes: float64(15), object(12)\n",
      "memory usage: 191.4+ KB\n"
     ]
    }
   ],
   "source": [
    "# Getting general idea about dataset\n",
    "df.info()"
   ]
  },
  {
   "cell_type": "markdown",
   "id": "435035a8",
   "metadata": {},
   "source": [
    "Obsservations:\n",
    "1. 14 out of 27 columns are float datatype.\n",
    "2. 13 columns are object datatype.\n",
    "3. The target columns - 'primary_fuel' is of object datatype and 'capacity_mw' is of float datatype."
   ]
  },
  {
   "cell_type": "code",
   "execution_count": 8,
   "id": "5dee3840",
   "metadata": {},
   "outputs": [
    {
     "data": {
      "text/plain": [
       "country                       0.000000\n",
       "country_long                  0.000000\n",
       "name                          0.000000\n",
       "gppd_idnr                     0.000000\n",
       "capacity_mw                   0.000000\n",
       "latitude                      5.071665\n",
       "longitude                     5.071665\n",
       "primary_fuel                  0.000000\n",
       "other_fuel1                  78.169791\n",
       "other_fuel2                  99.889746\n",
       "other_fuel3                 100.000000\n",
       "commissioning_year           41.896362\n",
       "owner                        62.293275\n",
       "source                        0.000000\n",
       "url                           0.000000\n",
       "geolocation_source            2.094818\n",
       "wepp_id                     100.000000\n",
       "year_of_capacity_data        42.778390\n",
       "generation_gwh_2013         100.000000\n",
       "generation_gwh_2014          56.119074\n",
       "generation_gwh_2015          53.472988\n",
       "generation_gwh_2016          52.149945\n",
       "generation_gwh_2017          51.488423\n",
       "generation_gwh_2018          50.606395\n",
       "generation_gwh_2019         100.000000\n",
       "generation_data_source       50.496141\n",
       "estimated_generation_gwh    100.000000\n",
       "dtype: float64"
      ]
     },
     "execution_count": 8,
     "metadata": {},
     "output_type": "execute_result"
    }
   ],
   "source": [
    "# Checking for the missing values in the dataset\n",
    "\n",
    "df.isnull().mean()*100"
   ]
  },
  {
   "cell_type": "code",
   "execution_count": 9,
   "id": "861785b6",
   "metadata": {},
   "outputs": [
    {
     "data": {
      "text/html": [
       "<div>\n",
       "<style scoped>\n",
       "    .dataframe tbody tr th:only-of-type {\n",
       "        vertical-align: middle;\n",
       "    }\n",
       "\n",
       "    .dataframe tbody tr th {\n",
       "        vertical-align: top;\n",
       "    }\n",
       "\n",
       "    .dataframe thead th {\n",
       "        text-align: right;\n",
       "    }\n",
       "</style>\n",
       "<table border=\"1\" class=\"dataframe\">\n",
       "  <thead>\n",
       "    <tr style=\"text-align: right;\">\n",
       "      <th></th>\n",
       "      <th>name</th>\n",
       "      <th>gppd_idnr</th>\n",
       "      <th>capacity_mw</th>\n",
       "      <th>latitude</th>\n",
       "      <th>longitude</th>\n",
       "      <th>primary_fuel</th>\n",
       "      <th>other_fuel1</th>\n",
       "      <th>other_fuel2</th>\n",
       "      <th>other_fuel3</th>\n",
       "      <th>commissioning_year</th>\n",
       "      <th>...</th>\n",
       "      <th>year_of_capacity_data</th>\n",
       "      <th>generation_gwh_2013</th>\n",
       "      <th>generation_gwh_2014</th>\n",
       "      <th>generation_gwh_2015</th>\n",
       "      <th>generation_gwh_2016</th>\n",
       "      <th>generation_gwh_2017</th>\n",
       "      <th>generation_gwh_2018</th>\n",
       "      <th>generation_gwh_2019</th>\n",
       "      <th>generation_data_source</th>\n",
       "      <th>estimated_generation_gwh</th>\n",
       "    </tr>\n",
       "  </thead>\n",
       "  <tbody>\n",
       "    <tr>\n",
       "      <th>0</th>\n",
       "      <td>ACME Solar Tower</td>\n",
       "      <td>WRI1020239</td>\n",
       "      <td>2.5</td>\n",
       "      <td>28.1839</td>\n",
       "      <td>73.2407</td>\n",
       "      <td>Solar</td>\n",
       "      <td>NaN</td>\n",
       "      <td>NaN</td>\n",
       "      <td>NaN</td>\n",
       "      <td>2011.0</td>\n",
       "      <td>...</td>\n",
       "      <td>NaN</td>\n",
       "      <td>NaN</td>\n",
       "      <td>NaN</td>\n",
       "      <td>NaN</td>\n",
       "      <td>NaN</td>\n",
       "      <td>NaN</td>\n",
       "      <td>NaN</td>\n",
       "      <td>NaN</td>\n",
       "      <td>NaN</td>\n",
       "      <td>NaN</td>\n",
       "    </tr>\n",
       "    <tr>\n",
       "      <th>1</th>\n",
       "      <td>ADITYA CEMENT WORKS</td>\n",
       "      <td>WRI1019881</td>\n",
       "      <td>98.0</td>\n",
       "      <td>24.7663</td>\n",
       "      <td>74.6090</td>\n",
       "      <td>Coal</td>\n",
       "      <td>NaN</td>\n",
       "      <td>NaN</td>\n",
       "      <td>NaN</td>\n",
       "      <td>NaN</td>\n",
       "      <td>...</td>\n",
       "      <td>NaN</td>\n",
       "      <td>NaN</td>\n",
       "      <td>NaN</td>\n",
       "      <td>NaN</td>\n",
       "      <td>NaN</td>\n",
       "      <td>NaN</td>\n",
       "      <td>NaN</td>\n",
       "      <td>NaN</td>\n",
       "      <td>NaN</td>\n",
       "      <td>NaN</td>\n",
       "    </tr>\n",
       "    <tr>\n",
       "      <th>2</th>\n",
       "      <td>AES Saurashtra Windfarms</td>\n",
       "      <td>WRI1026669</td>\n",
       "      <td>39.2</td>\n",
       "      <td>21.9038</td>\n",
       "      <td>69.3732</td>\n",
       "      <td>Wind</td>\n",
       "      <td>NaN</td>\n",
       "      <td>NaN</td>\n",
       "      <td>NaN</td>\n",
       "      <td>NaN</td>\n",
       "      <td>...</td>\n",
       "      <td>NaN</td>\n",
       "      <td>NaN</td>\n",
       "      <td>NaN</td>\n",
       "      <td>NaN</td>\n",
       "      <td>NaN</td>\n",
       "      <td>NaN</td>\n",
       "      <td>NaN</td>\n",
       "      <td>NaN</td>\n",
       "      <td>NaN</td>\n",
       "      <td>NaN</td>\n",
       "    </tr>\n",
       "    <tr>\n",
       "      <th>3</th>\n",
       "      <td>AGARTALA GT</td>\n",
       "      <td>IND0000001</td>\n",
       "      <td>135.0</td>\n",
       "      <td>23.8712</td>\n",
       "      <td>91.3602</td>\n",
       "      <td>Gas</td>\n",
       "      <td>NaN</td>\n",
       "      <td>NaN</td>\n",
       "      <td>NaN</td>\n",
       "      <td>2004.0</td>\n",
       "      <td>...</td>\n",
       "      <td>2019.0</td>\n",
       "      <td>NaN</td>\n",
       "      <td>617.789264</td>\n",
       "      <td>843.747</td>\n",
       "      <td>886.004428</td>\n",
       "      <td>663.774500</td>\n",
       "      <td>626.239128</td>\n",
       "      <td>NaN</td>\n",
       "      <td>Central Electricity Authority</td>\n",
       "      <td>NaN</td>\n",
       "    </tr>\n",
       "    <tr>\n",
       "      <th>4</th>\n",
       "      <td>AKALTARA TPP</td>\n",
       "      <td>IND0000002</td>\n",
       "      <td>1800.0</td>\n",
       "      <td>21.9603</td>\n",
       "      <td>82.4091</td>\n",
       "      <td>Coal</td>\n",
       "      <td>Oil</td>\n",
       "      <td>NaN</td>\n",
       "      <td>NaN</td>\n",
       "      <td>2015.0</td>\n",
       "      <td>...</td>\n",
       "      <td>2019.0</td>\n",
       "      <td>NaN</td>\n",
       "      <td>3035.550000</td>\n",
       "      <td>5916.370</td>\n",
       "      <td>6243.000000</td>\n",
       "      <td>5385.579736</td>\n",
       "      <td>7279.000000</td>\n",
       "      <td>NaN</td>\n",
       "      <td>Central Electricity Authority</td>\n",
       "      <td>NaN</td>\n",
       "    </tr>\n",
       "  </tbody>\n",
       "</table>\n",
       "<p>5 rows × 25 columns</p>\n",
       "</div>"
      ],
      "text/plain": [
       "                       name   gppd_idnr  capacity_mw  latitude  longitude  \\\n",
       "0          ACME Solar Tower  WRI1020239          2.5   28.1839    73.2407   \n",
       "1       ADITYA CEMENT WORKS  WRI1019881         98.0   24.7663    74.6090   \n",
       "2  AES Saurashtra Windfarms  WRI1026669         39.2   21.9038    69.3732   \n",
       "3               AGARTALA GT  IND0000001        135.0   23.8712    91.3602   \n",
       "4              AKALTARA TPP  IND0000002       1800.0   21.9603    82.4091   \n",
       "\n",
       "  primary_fuel other_fuel1 other_fuel2  other_fuel3  commissioning_year  ...  \\\n",
       "0        Solar         NaN         NaN          NaN              2011.0  ...   \n",
       "1         Coal         NaN         NaN          NaN                 NaN  ...   \n",
       "2         Wind         NaN         NaN          NaN                 NaN  ...   \n",
       "3          Gas         NaN         NaN          NaN              2004.0  ...   \n",
       "4         Coal         Oil         NaN          NaN              2015.0  ...   \n",
       "\n",
       "  year_of_capacity_data generation_gwh_2013 generation_gwh_2014  \\\n",
       "0                   NaN                 NaN                 NaN   \n",
       "1                   NaN                 NaN                 NaN   \n",
       "2                   NaN                 NaN                 NaN   \n",
       "3                2019.0                 NaN          617.789264   \n",
       "4                2019.0                 NaN         3035.550000   \n",
       "\n",
       "  generation_gwh_2015  generation_gwh_2016  generation_gwh_2017  \\\n",
       "0                 NaN                  NaN                  NaN   \n",
       "1                 NaN                  NaN                  NaN   \n",
       "2                 NaN                  NaN                  NaN   \n",
       "3             843.747           886.004428           663.774500   \n",
       "4            5916.370          6243.000000          5385.579736   \n",
       "\n",
       "   generation_gwh_2018  generation_gwh_2019         generation_data_source  \\\n",
       "0                  NaN                  NaN                            NaN   \n",
       "1                  NaN                  NaN                            NaN   \n",
       "2                  NaN                  NaN                            NaN   \n",
       "3           626.239128                  NaN  Central Electricity Authority   \n",
       "4          7279.000000                  NaN  Central Electricity Authority   \n",
       "\n",
       "   estimated_generation_gwh  \n",
       "0                       NaN  \n",
       "1                       NaN  \n",
       "2                       NaN  \n",
       "3                       NaN  \n",
       "4                       NaN  \n",
       "\n",
       "[5 rows x 25 columns]"
      ]
     },
     "execution_count": 9,
     "metadata": {},
     "output_type": "execute_result"
    }
   ],
   "source": [
    "# Dropping country and country_long columns as it contains only 'India' as value.\n",
    "\n",
    "df = df.drop('country', axis =1)\n",
    "df = df.drop('country_long', axis =1)\n",
    "\n",
    "df.head()"
   ]
  },
  {
   "cell_type": "markdown",
   "id": "629f3dbb",
   "metadata": {},
   "source": [
    "The dataset contains missing values in some columns."
   ]
  },
  {
   "cell_type": "raw",
   "id": "eb9ac988",
   "metadata": {},
   "source": [
    "Following columns contains missing values:\n",
    "\n",
    "latitude\n",
    "longitude\n",
    "other_fuel1\n",
    "other_fuel2\n",
    "other_fuel3\n",
    "commissioning_year\n",
    "owner\n",
    "geolocation_source\n",
    "wepp_id\n",
    "year_of_capacity_data\n",
    "generation_gwh_2013\n",
    "generation_gwh_2014\n",
    "generation_gwh_2015\n",
    "generation_gwh_2016\n",
    "generation_gwh_2017\n",
    "generation_data_source\n",
    "estimated_generation_gwh"
   ]
  },
  {
   "cell_type": "code",
   "execution_count": 10,
   "id": "ffaab099",
   "metadata": {},
   "outputs": [],
   "source": [
    "# Dropping the 'other_fuel2' column:\n",
    "\n",
    "df = df.drop('other_fuel2', axis = 1)\n",
    "df = df.drop('other_fuel3', axis = 1)\n",
    "df = df.drop('wepp_id', axis = 1)\n",
    "df = df.drop('estimated_generation_gwh', axis = 1)\n",
    "df = df.drop('url', axis = 1)"
   ]
  },
  {
   "cell_type": "code",
   "execution_count": 11,
   "id": "3ee4f7e4",
   "metadata": {},
   "outputs": [
    {
     "data": {
      "text/html": [
       "<div>\n",
       "<style scoped>\n",
       "    .dataframe tbody tr th:only-of-type {\n",
       "        vertical-align: middle;\n",
       "    }\n",
       "\n",
       "    .dataframe tbody tr th {\n",
       "        vertical-align: top;\n",
       "    }\n",
       "\n",
       "    .dataframe thead th {\n",
       "        text-align: right;\n",
       "    }\n",
       "</style>\n",
       "<table border=\"1\" class=\"dataframe\">\n",
       "  <thead>\n",
       "    <tr style=\"text-align: right;\">\n",
       "      <th></th>\n",
       "      <th>name</th>\n",
       "      <th>gppd_idnr</th>\n",
       "      <th>capacity_mw</th>\n",
       "      <th>latitude</th>\n",
       "      <th>longitude</th>\n",
       "      <th>primary_fuel</th>\n",
       "      <th>other_fuel1</th>\n",
       "      <th>commissioning_year</th>\n",
       "      <th>owner</th>\n",
       "      <th>source</th>\n",
       "      <th>geolocation_source</th>\n",
       "      <th>year_of_capacity_data</th>\n",
       "      <th>generation_gwh_2013</th>\n",
       "      <th>generation_gwh_2014</th>\n",
       "      <th>generation_gwh_2015</th>\n",
       "      <th>generation_gwh_2016</th>\n",
       "      <th>generation_gwh_2017</th>\n",
       "      <th>generation_gwh_2018</th>\n",
       "      <th>generation_gwh_2019</th>\n",
       "      <th>generation_data_source</th>\n",
       "    </tr>\n",
       "  </thead>\n",
       "  <tbody>\n",
       "    <tr>\n",
       "      <th>0</th>\n",
       "      <td>ACME Solar Tower</td>\n",
       "      <td>WRI1020239</td>\n",
       "      <td>2.5</td>\n",
       "      <td>28.1839</td>\n",
       "      <td>73.2407</td>\n",
       "      <td>Solar</td>\n",
       "      <td>NaN</td>\n",
       "      <td>2011.0</td>\n",
       "      <td>Solar Paces</td>\n",
       "      <td>National Renewable Energy Laboratory</td>\n",
       "      <td>National Renewable Energy Laboratory</td>\n",
       "      <td>NaN</td>\n",
       "      <td>NaN</td>\n",
       "      <td>NaN</td>\n",
       "      <td>NaN</td>\n",
       "      <td>NaN</td>\n",
       "      <td>NaN</td>\n",
       "      <td>NaN</td>\n",
       "      <td>NaN</td>\n",
       "      <td>NaN</td>\n",
       "    </tr>\n",
       "    <tr>\n",
       "      <th>1</th>\n",
       "      <td>ADITYA CEMENT WORKS</td>\n",
       "      <td>WRI1019881</td>\n",
       "      <td>98.0</td>\n",
       "      <td>24.7663</td>\n",
       "      <td>74.6090</td>\n",
       "      <td>Coal</td>\n",
       "      <td>NaN</td>\n",
       "      <td>NaN</td>\n",
       "      <td>Ultratech Cement ltd</td>\n",
       "      <td>Ultratech Cement ltd</td>\n",
       "      <td>WRI</td>\n",
       "      <td>NaN</td>\n",
       "      <td>NaN</td>\n",
       "      <td>NaN</td>\n",
       "      <td>NaN</td>\n",
       "      <td>NaN</td>\n",
       "      <td>NaN</td>\n",
       "      <td>NaN</td>\n",
       "      <td>NaN</td>\n",
       "      <td>NaN</td>\n",
       "    </tr>\n",
       "    <tr>\n",
       "      <th>2</th>\n",
       "      <td>AES Saurashtra Windfarms</td>\n",
       "      <td>WRI1026669</td>\n",
       "      <td>39.2</td>\n",
       "      <td>21.9038</td>\n",
       "      <td>69.3732</td>\n",
       "      <td>Wind</td>\n",
       "      <td>NaN</td>\n",
       "      <td>NaN</td>\n",
       "      <td>AES</td>\n",
       "      <td>CDM</td>\n",
       "      <td>WRI</td>\n",
       "      <td>NaN</td>\n",
       "      <td>NaN</td>\n",
       "      <td>NaN</td>\n",
       "      <td>NaN</td>\n",
       "      <td>NaN</td>\n",
       "      <td>NaN</td>\n",
       "      <td>NaN</td>\n",
       "      <td>NaN</td>\n",
       "      <td>NaN</td>\n",
       "    </tr>\n",
       "    <tr>\n",
       "      <th>3</th>\n",
       "      <td>AGARTALA GT</td>\n",
       "      <td>IND0000001</td>\n",
       "      <td>135.0</td>\n",
       "      <td>23.8712</td>\n",
       "      <td>91.3602</td>\n",
       "      <td>Gas</td>\n",
       "      <td>NaN</td>\n",
       "      <td>2004.0</td>\n",
       "      <td>NaN</td>\n",
       "      <td>Central Electricity Authority</td>\n",
       "      <td>WRI</td>\n",
       "      <td>2019.0</td>\n",
       "      <td>NaN</td>\n",
       "      <td>617.789264</td>\n",
       "      <td>843.747</td>\n",
       "      <td>886.004428</td>\n",
       "      <td>663.774500</td>\n",
       "      <td>626.239128</td>\n",
       "      <td>NaN</td>\n",
       "      <td>Central Electricity Authority</td>\n",
       "    </tr>\n",
       "    <tr>\n",
       "      <th>4</th>\n",
       "      <td>AKALTARA TPP</td>\n",
       "      <td>IND0000002</td>\n",
       "      <td>1800.0</td>\n",
       "      <td>21.9603</td>\n",
       "      <td>82.4091</td>\n",
       "      <td>Coal</td>\n",
       "      <td>Oil</td>\n",
       "      <td>2015.0</td>\n",
       "      <td>NaN</td>\n",
       "      <td>Central Electricity Authority</td>\n",
       "      <td>WRI</td>\n",
       "      <td>2019.0</td>\n",
       "      <td>NaN</td>\n",
       "      <td>3035.550000</td>\n",
       "      <td>5916.370</td>\n",
       "      <td>6243.000000</td>\n",
       "      <td>5385.579736</td>\n",
       "      <td>7279.000000</td>\n",
       "      <td>NaN</td>\n",
       "      <td>Central Electricity Authority</td>\n",
       "    </tr>\n",
       "  </tbody>\n",
       "</table>\n",
       "</div>"
      ],
      "text/plain": [
       "                       name   gppd_idnr  capacity_mw  latitude  longitude  \\\n",
       "0          ACME Solar Tower  WRI1020239          2.5   28.1839    73.2407   \n",
       "1       ADITYA CEMENT WORKS  WRI1019881         98.0   24.7663    74.6090   \n",
       "2  AES Saurashtra Windfarms  WRI1026669         39.2   21.9038    69.3732   \n",
       "3               AGARTALA GT  IND0000001        135.0   23.8712    91.3602   \n",
       "4              AKALTARA TPP  IND0000002       1800.0   21.9603    82.4091   \n",
       "\n",
       "  primary_fuel other_fuel1  commissioning_year                 owner  \\\n",
       "0        Solar         NaN              2011.0           Solar Paces   \n",
       "1         Coal         NaN                 NaN  Ultratech Cement ltd   \n",
       "2         Wind         NaN                 NaN                   AES   \n",
       "3          Gas         NaN              2004.0                   NaN   \n",
       "4         Coal         Oil              2015.0                   NaN   \n",
       "\n",
       "                                 source                    geolocation_source  \\\n",
       "0  National Renewable Energy Laboratory  National Renewable Energy Laboratory   \n",
       "1                  Ultratech Cement ltd                                   WRI   \n",
       "2                                   CDM                                   WRI   \n",
       "3         Central Electricity Authority                                   WRI   \n",
       "4         Central Electricity Authority                                   WRI   \n",
       "\n",
       "   year_of_capacity_data  generation_gwh_2013  generation_gwh_2014  \\\n",
       "0                    NaN                  NaN                  NaN   \n",
       "1                    NaN                  NaN                  NaN   \n",
       "2                    NaN                  NaN                  NaN   \n",
       "3                 2019.0                  NaN           617.789264   \n",
       "4                 2019.0                  NaN          3035.550000   \n",
       "\n",
       "   generation_gwh_2015  generation_gwh_2016  generation_gwh_2017  \\\n",
       "0                  NaN                  NaN                  NaN   \n",
       "1                  NaN                  NaN                  NaN   \n",
       "2                  NaN                  NaN                  NaN   \n",
       "3              843.747           886.004428           663.774500   \n",
       "4             5916.370          6243.000000          5385.579736   \n",
       "\n",
       "   generation_gwh_2018  generation_gwh_2019         generation_data_source  \n",
       "0                  NaN                  NaN                            NaN  \n",
       "1                  NaN                  NaN                            NaN  \n",
       "2                  NaN                  NaN                            NaN  \n",
       "3           626.239128                  NaN  Central Electricity Authority  \n",
       "4          7279.000000                  NaN  Central Electricity Authority  "
      ]
     },
     "execution_count": 11,
     "metadata": {},
     "output_type": "execute_result"
    }
   ],
   "source": [
    "# checcking the dataset again\n",
    "df.head()"
   ]
  },
  {
   "cell_type": "code",
   "execution_count": 12,
   "id": "b704320c",
   "metadata": {},
   "outputs": [
    {
     "data": {
      "text/plain": [
       "name                        0\n",
       "gppd_idnr                   0\n",
       "capacity_mw                 0\n",
       "latitude                   46\n",
       "longitude                  46\n",
       "primary_fuel                0\n",
       "other_fuel1               709\n",
       "commissioning_year        380\n",
       "owner                     565\n",
       "source                      0\n",
       "geolocation_source         19\n",
       "year_of_capacity_data     388\n",
       "generation_gwh_2013       907\n",
       "generation_gwh_2014       509\n",
       "generation_gwh_2015       485\n",
       "generation_gwh_2016       473\n",
       "generation_gwh_2017       467\n",
       "generation_gwh_2018       459\n",
       "generation_gwh_2019       907\n",
       "generation_data_source    458\n",
       "dtype: int64"
      ]
     },
     "execution_count": 12,
     "metadata": {},
     "output_type": "execute_result"
    }
   ],
   "source": [
    "# checking for missing values again\n",
    "df.isnull().sum()"
   ]
  },
  {
   "cell_type": "markdown",
   "id": "1cf86833",
   "metadata": {},
   "source": [
    "# Handling missing values"
   ]
  },
  {
   "cell_type": "markdown",
   "id": "da46d402",
   "metadata": {},
   "source": [
    "1. generation_gwh_2013"
   ]
  },
  {
   "cell_type": "code",
   "execution_count": 13,
   "id": "a178aa78",
   "metadata": {},
   "outputs": [
    {
     "data": {
      "text/plain": [
       "nan"
      ]
     },
     "execution_count": 13,
     "metadata": {},
     "output_type": "execute_result"
    }
   ],
   "source": [
    "# Checking for the mean\n",
    "\n",
    "df['generation_gwh_2013'].median()\n",
    "\n"
   ]
  },
  {
   "cell_type": "code",
   "execution_count": 14,
   "id": "91418049",
   "metadata": {},
   "outputs": [],
   "source": [
    "# Replacing the missing values with 0\n",
    "\n",
    "df['generation_gwh_2013'].fillna(0, inplace=True)"
   ]
  },
  {
   "cell_type": "markdown",
   "id": "9084ab79",
   "metadata": {},
   "source": [
    "2. generation_gwh_2014"
   ]
  },
  {
   "cell_type": "code",
   "execution_count": 15,
   "id": "55a7c315",
   "metadata": {},
   "outputs": [],
   "source": [
    "# Checking for the mean\n",
    "\n",
    "df['generation_gwh_2014'].mean()\n",
    "\n",
    "# Replacing the missing values\n",
    "\n",
    "df['generation_gwh_2014'].fillna(df['generation_gwh_2014'].mean(), inplace=True)"
   ]
  },
  {
   "cell_type": "markdown",
   "id": "03981957",
   "metadata": {},
   "source": [
    "3. generation_gwh_2015"
   ]
  },
  {
   "cell_type": "code",
   "execution_count": 16,
   "id": "43f53ea3",
   "metadata": {},
   "outputs": [],
   "source": [
    "# Checking for the mean\n",
    "\n",
    "df['generation_gwh_2015'].mean()\n",
    "\n",
    "# Replacing the missing values\n",
    "\n",
    "df['generation_gwh_2015'].fillna(df['generation_gwh_2015'].mean(), inplace=True)"
   ]
  },
  {
   "cell_type": "markdown",
   "id": "7a991229",
   "metadata": {},
   "source": [
    "4. generation_gwh_2016"
   ]
  },
  {
   "cell_type": "code",
   "execution_count": 17,
   "id": "9f80efff",
   "metadata": {},
   "outputs": [],
   "source": [
    "# Checking for the mean\n",
    "\n",
    "df['generation_gwh_2016'].mean()\n",
    "\n",
    "# Replacing the missing values\n",
    "\n",
    "df['generation_gwh_2016'].fillna(df['generation_gwh_2016'].mean(), inplace=True)"
   ]
  },
  {
   "cell_type": "markdown",
   "id": "ed32b52a",
   "metadata": {},
   "source": [
    "5. generation_gwh_2017"
   ]
  },
  {
   "cell_type": "code",
   "execution_count": 18,
   "id": "62f32154",
   "metadata": {},
   "outputs": [],
   "source": [
    "# Checking for the mean\n",
    "\n",
    "df['generation_gwh_2017'].mean()\n",
    "\n",
    "# Replacing the missing values\n",
    "\n",
    "df['generation_gwh_2017'].fillna(df['generation_gwh_2017'].mean(), inplace=True)"
   ]
  },
  {
   "cell_type": "markdown",
   "id": "81a14ec4",
   "metadata": {},
   "source": [
    "6. generation_gwh_2018"
   ]
  },
  {
   "cell_type": "code",
   "execution_count": 19,
   "id": "fb5d2590",
   "metadata": {},
   "outputs": [],
   "source": [
    "# Checking for the mean\n",
    "\n",
    "df['generation_gwh_2018'].mean()\n",
    "\n",
    "# Replacing the missing values\n",
    "\n",
    "df['generation_gwh_2018'].fillna(df['generation_gwh_2018'].mean(), inplace=True)"
   ]
  },
  {
   "cell_type": "markdown",
   "id": "1240e347",
   "metadata": {},
   "source": [
    "8. other_fuel1"
   ]
  },
  {
   "cell_type": "code",
   "execution_count": 20,
   "id": "242f0154",
   "metadata": {},
   "outputs": [],
   "source": [
    "# Checking for the value counts\n",
    "\n",
    "df['other_fuel1'].value_counts()\n",
    "\n",
    "# Replacing the missing values with '0'\n",
    "\n",
    "df['other_fuel1'].fillna('0', inplace=True)"
   ]
  },
  {
   "cell_type": "markdown",
   "id": "76d3d0ff",
   "metadata": {},
   "source": [
    "9. commissioning_year"
   ]
  },
  {
   "cell_type": "code",
   "execution_count": 21,
   "id": "f2f17623",
   "metadata": {},
   "outputs": [
    {
     "data": {
      "text/plain": [
       "2001.0"
      ]
     },
     "execution_count": 21,
     "metadata": {},
     "output_type": "execute_result"
    }
   ],
   "source": [
    "# Checking the median\n",
    "df['commissioning_year'].median()"
   ]
  },
  {
   "cell_type": "code",
   "execution_count": 22,
   "id": "b8d3914b",
   "metadata": {},
   "outputs": [],
   "source": [
    "# Replacing the missing values\n",
    "\n",
    "df['commissioning_year'].fillna('2000', inplace=True)"
   ]
  },
  {
   "cell_type": "markdown",
   "id": "62b7eed2",
   "metadata": {},
   "source": [
    "10. latitude"
   ]
  },
  {
   "cell_type": "code",
   "execution_count": 23,
   "id": "b15a7188",
   "metadata": {},
   "outputs": [
    {
     "data": {
      "text/plain": [
       "21.78"
      ]
     },
     "execution_count": 23,
     "metadata": {},
     "output_type": "execute_result"
    }
   ],
   "source": [
    "# Checking for the median\n",
    "df['latitude'].median()"
   ]
  },
  {
   "cell_type": "code",
   "execution_count": 24,
   "id": "9904283d",
   "metadata": {},
   "outputs": [],
   "source": [
    "# Replacing the missing values\n",
    "df['latitude'].fillna('21.7783', inplace=True)"
   ]
  },
  {
   "cell_type": "markdown",
   "id": "8a58a3a7",
   "metadata": {},
   "source": [
    "11. longitude"
   ]
  },
  {
   "cell_type": "code",
   "execution_count": 25,
   "id": "38a291eb",
   "metadata": {},
   "outputs": [
    {
     "data": {
      "text/plain": [
       "76.7195"
      ]
     },
     "execution_count": 25,
     "metadata": {},
     "output_type": "execute_result"
    }
   ],
   "source": [
    "# Checking for the median\n",
    "df['longitude'].median()"
   ]
  },
  {
   "cell_type": "code",
   "execution_count": 26,
   "id": "b5c03124",
   "metadata": {},
   "outputs": [],
   "source": [
    "# Replacing the missing values\n",
    "df['longitude'].fillna('76.7195', inplace=True)"
   ]
  },
  {
   "cell_type": "markdown",
   "id": "ba8b9310",
   "metadata": {},
   "source": [
    "12. year_of_capacity_data"
   ]
  },
  {
   "cell_type": "code",
   "execution_count": 27,
   "id": "0134bbe7",
   "metadata": {},
   "outputs": [
    {
     "data": {
      "text/plain": [
       "2019.0"
      ]
     },
     "execution_count": 27,
     "metadata": {},
     "output_type": "execute_result"
    }
   ],
   "source": [
    "# Checking for the median\n",
    "df['year_of_capacity_data'].median()"
   ]
  },
  {
   "cell_type": "code",
   "execution_count": 28,
   "id": "f01b08d5",
   "metadata": {},
   "outputs": [],
   "source": [
    "# Replacing the missing values\n",
    "df['year_of_capacity_data'].fillna('2019', inplace=True)"
   ]
  },
  {
   "cell_type": "markdown",
   "id": "afa5afcf",
   "metadata": {},
   "source": [
    "13. owner"
   ]
  },
  {
   "cell_type": "code",
   "execution_count": 29,
   "id": "765911d5",
   "metadata": {},
   "outputs": [],
   "source": [
    "# Replacing the missing values\n",
    "df['owner'].fillna(df.owner.mode(), inplace=True)"
   ]
  },
  {
   "cell_type": "markdown",
   "id": "5aab7b19",
   "metadata": {},
   "source": [
    "13. generation_gwh_2019 "
   ]
  },
  {
   "cell_type": "code",
   "execution_count": 30,
   "id": "1ff65e23",
   "metadata": {},
   "outputs": [],
   "source": [
    "df['generation_gwh_2019'].fillna(0, inplace=True)"
   ]
  },
  {
   "cell_type": "code",
   "execution_count": 31,
   "id": "6ea1260f",
   "metadata": {},
   "outputs": [
    {
     "data": {
      "text/plain": [
       "name                        0\n",
       "gppd_idnr                   0\n",
       "capacity_mw                 0\n",
       "latitude                    0\n",
       "longitude                   0\n",
       "primary_fuel                0\n",
       "other_fuel1                 0\n",
       "commissioning_year          0\n",
       "owner                     565\n",
       "source                      0\n",
       "geolocation_source         19\n",
       "year_of_capacity_data       0\n",
       "generation_gwh_2013         0\n",
       "generation_gwh_2014         0\n",
       "generation_gwh_2015         0\n",
       "generation_gwh_2016         0\n",
       "generation_gwh_2017         0\n",
       "generation_gwh_2018         0\n",
       "generation_gwh_2019         0\n",
       "generation_data_source    458\n",
       "dtype: int64"
      ]
     },
     "execution_count": 31,
     "metadata": {},
     "output_type": "execute_result"
    }
   ],
   "source": [
    "# checking the dataset again\n",
    "df.isnull().sum()"
   ]
  },
  {
   "cell_type": "markdown",
   "id": "3a7e0d3a",
   "metadata": {},
   "source": [
    "# Analyzing the target column"
   ]
  },
  {
   "cell_type": "code",
   "execution_count": 32,
   "id": "1befa195",
   "metadata": {},
   "outputs": [
    {
     "data": {
      "text/plain": [
       "Coal       258\n",
       "Hydro      251\n",
       "Solar      127\n",
       "Wind       123\n",
       "Gas         69\n",
       "Biomass     50\n",
       "Oil         20\n",
       "Nuclear      9\n",
       "Name: primary_fuel, dtype: int64"
      ]
     },
     "execution_count": 32,
     "metadata": {},
     "output_type": "execute_result"
    }
   ],
   "source": [
    "# Checking the value counts.\n",
    "\n",
    "df['primary_fuel'].value_counts()"
   ]
  },
  {
   "cell_type": "code",
   "execution_count": 33,
   "id": "58d0a979",
   "metadata": {},
   "outputs": [
    {
     "data": {
      "image/png": "[encoded data removed]",
      "text/plain": [
       "<Figure size 576x432 with 1 Axes>"
      ]
     },
     "metadata": {
      "needs_background": "light"
     },
     "output_type": "display_data"
    }
   ],
   "source": [
    "# Plotting graph to show the distribution of target coulmn.\n",
    "\n",
    "plt.figure(figsize=[8,6])\n",
    "sns.countplot(x='primary_fuel', data=df)\n",
    "plt.xlabel('Fuel Type')\n",
    "plt.ylabel('Values')\n",
    "plt.title('Distribution of target column')\n",
    "plt.show()"
   ]
  },
  {
   "cell_type": "markdown",
   "id": "1331fd9c",
   "metadata": {},
   "source": [
    "The target column 'primary_fuel' is imbalanced. "
   ]
  },
  {
   "cell_type": "code",
   "execution_count": 34,
   "id": "75fde985",
   "metadata": {},
   "outputs": [
    {
     "data": {
      "image/png": "[encoded data removed]",
      "text/plain": [
       "<Figure size 576x432 with 1 Axes>"
      ]
     },
     "metadata": {
      "needs_background": "light"
     },
     "output_type": "display_data"
    }
   ],
   "source": [
    "# Checking the distribution of capacity of plants fuel type wise\n",
    "\n",
    "plt.figure(figsize=[8,6])\n",
    "sns.barplot(x='primary_fuel', y='capacity_mw', data=df)\n",
    "plt.xlabel('Fuel Type of the plant')\n",
    "plt.ylabel('Capacity in MW')\n",
    "plt.title('Plant Capacity Vs Fuel type')\n",
    "plt.show()"
   ]
  },
  {
   "cell_type": "raw",
   "id": "6432108d",
   "metadata": {},
   "source": [
    "The Nuclear type power plants have highest capacity.\n",
    "Coal type power plants have the second highest capacity."
   ]
  },
  {
   "cell_type": "code",
   "execution_count": 35,
   "id": "9cf17206",
   "metadata": {},
   "outputs": [
    {
     "data": {
      "image/png": "[encoded data removed]",
      "text/plain": [
       "<Figure size 4680x1296 with 1 Axes>"
      ]
     },
     "metadata": {
      "needs_background": "light"
     },
     "output_type": "display_data"
    }
   ],
   "source": [
    "# Checking the distribution of capacity Vs commissioning_year\n",
    "\n",
    "plt.figure(figsize=[65,18])\n",
    "sns.barplot(x='commissioning_year', y='capacity_mw', data=df)\n",
    "plt.xlabel('Commisioning Year')\n",
    "plt.ylabel('Capacity in MW')\n",
    "plt.title('Commisioning year Vs capacity of the plant')\n",
    "plt.show()"
   ]
  },
  {
   "cell_type": "markdown",
   "id": "7b90e215",
   "metadata": {},
   "source": [
    "The new plants have more capacity than the older plants."
   ]
  },
  {
   "cell_type": "markdown",
   "id": "282ea107",
   "metadata": {},
   "source": [
    "# Label encoding"
   ]
  },
  {
   "cell_type": "code",
   "execution_count": 36,
   "id": "b5f1d65c",
   "metadata": {},
   "outputs": [],
   "source": [
    "from sklearn.preprocessing import LabelEncoder\n",
    "\n",
    "df['name'] = LabelEncoder().fit_transform(df['name'])\n",
    "df['gppd_idnr'] = LabelEncoder().fit_transform(df['gppd_idnr'])\n",
    "df['primary_fuel'] = LabelEncoder().fit_transform(df['primary_fuel'])\n",
    "df['other_fuel1'] = LabelEncoder().fit_transform(df['other_fuel1'])\n",
    "df['owner'] = LabelEncoder().fit_transform(df['owner'])\n",
    "df['source'] = LabelEncoder().fit_transform(df['source'])"
   ]
  },
  {
   "cell_type": "code",
   "execution_count": 37,
   "id": "8f33752a",
   "metadata": {},
   "outputs": [],
   "source": [
    "# Dropping 'geolocation_source' \n",
    "\n",
    "df = df.drop('geolocation_source', axis=1)"
   ]
  },
  {
   "cell_type": "code",
   "execution_count": 38,
   "id": "84c07ca8",
   "metadata": {},
   "outputs": [],
   "source": [
    "# Dropping 'generation_data_source'\n",
    "\n",
    "df = df.drop('generation_data_source', axis=1)"
   ]
  },
  {
   "cell_type": "code",
   "execution_count": 39,
   "id": "2910a23c",
   "metadata": {},
   "outputs": [
    {
     "data": {
      "text/html": [
       "<div>\n",
       "<style scoped>\n",
       "    .dataframe tbody tr th:only-of-type {\n",
       "        vertical-align: middle;\n",
       "    }\n",
       "\n",
       "    .dataframe tbody tr th {\n",
       "        vertical-align: top;\n",
       "    }\n",
       "\n",
       "    .dataframe thead th {\n",
       "        text-align: right;\n",
       "    }\n",
       "</style>\n",
       "<table border=\"1\" class=\"dataframe\">\n",
       "  <thead>\n",
       "    <tr style=\"text-align: right;\">\n",
       "      <th></th>\n",
       "      <th>name</th>\n",
       "      <th>gppd_idnr</th>\n",
       "      <th>capacity_mw</th>\n",
       "      <th>latitude</th>\n",
       "      <th>longitude</th>\n",
       "      <th>primary_fuel</th>\n",
       "      <th>other_fuel1</th>\n",
       "      <th>commissioning_year</th>\n",
       "      <th>owner</th>\n",
       "      <th>source</th>\n",
       "      <th>year_of_capacity_data</th>\n",
       "      <th>generation_gwh_2013</th>\n",
       "      <th>generation_gwh_2014</th>\n",
       "      <th>generation_gwh_2015</th>\n",
       "      <th>generation_gwh_2016</th>\n",
       "      <th>generation_gwh_2017</th>\n",
       "      <th>generation_gwh_2018</th>\n",
       "      <th>generation_gwh_2019</th>\n",
       "    </tr>\n",
       "  </thead>\n",
       "  <tbody>\n",
       "    <tr>\n",
       "      <th>0</th>\n",
       "      <td>0</td>\n",
       "      <td>657</td>\n",
       "      <td>2.5</td>\n",
       "      <td>28.1839</td>\n",
       "      <td>73.2407</td>\n",
       "      <td>6</td>\n",
       "      <td>0</td>\n",
       "      <td>2011.0</td>\n",
       "      <td>229</td>\n",
       "      <td>109</td>\n",
       "      <td>2019</td>\n",
       "      <td>0.0</td>\n",
       "      <td>2431.823590</td>\n",
       "      <td>2428.226946</td>\n",
       "      <td>2467.936859</td>\n",
       "      <td>2547.759305</td>\n",
       "      <td>2600.804099</td>\n",
       "      <td>0.0</td>\n",
       "    </tr>\n",
       "    <tr>\n",
       "      <th>1</th>\n",
       "      <td>1</td>\n",
       "      <td>519</td>\n",
       "      <td>98.0</td>\n",
       "      <td>24.7663</td>\n",
       "      <td>74.609</td>\n",
       "      <td>1</td>\n",
       "      <td>0</td>\n",
       "      <td>2000</td>\n",
       "      <td>258</td>\n",
       "      <td>174</td>\n",
       "      <td>2019</td>\n",
       "      <td>0.0</td>\n",
       "      <td>2431.823590</td>\n",
       "      <td>2428.226946</td>\n",
       "      <td>2467.936859</td>\n",
       "      <td>2547.759305</td>\n",
       "      <td>2600.804099</td>\n",
       "      <td>0.0</td>\n",
       "    </tr>\n",
       "    <tr>\n",
       "      <th>2</th>\n",
       "      <td>2</td>\n",
       "      <td>853</td>\n",
       "      <td>39.2</td>\n",
       "      <td>21.9038</td>\n",
       "      <td>69.3732</td>\n",
       "      <td>7</td>\n",
       "      <td>0</td>\n",
       "      <td>2000</td>\n",
       "      <td>2</td>\n",
       "      <td>21</td>\n",
       "      <td>2019</td>\n",
       "      <td>0.0</td>\n",
       "      <td>2431.823590</td>\n",
       "      <td>2428.226946</td>\n",
       "      <td>2467.936859</td>\n",
       "      <td>2547.759305</td>\n",
       "      <td>2600.804099</td>\n",
       "      <td>0.0</td>\n",
       "    </tr>\n",
       "    <tr>\n",
       "      <th>3</th>\n",
       "      <td>3</td>\n",
       "      <td>0</td>\n",
       "      <td>135.0</td>\n",
       "      <td>23.8712</td>\n",
       "      <td>91.3602</td>\n",
       "      <td>2</td>\n",
       "      <td>0</td>\n",
       "      <td>2004.0</td>\n",
       "      <td>280</td>\n",
       "      <td>22</td>\n",
       "      <td>2019.0</td>\n",
       "      <td>0.0</td>\n",
       "      <td>617.789264</td>\n",
       "      <td>843.747000</td>\n",
       "      <td>886.004428</td>\n",
       "      <td>663.774500</td>\n",
       "      <td>626.239128</td>\n",
       "      <td>0.0</td>\n",
       "    </tr>\n",
       "    <tr>\n",
       "      <th>4</th>\n",
       "      <td>4</td>\n",
       "      <td>1</td>\n",
       "      <td>1800.0</td>\n",
       "      <td>21.9603</td>\n",
       "      <td>82.4091</td>\n",
       "      <td>1</td>\n",
       "      <td>3</td>\n",
       "      <td>2015.0</td>\n",
       "      <td>280</td>\n",
       "      <td>22</td>\n",
       "      <td>2019.0</td>\n",
       "      <td>0.0</td>\n",
       "      <td>3035.550000</td>\n",
       "      <td>5916.370000</td>\n",
       "      <td>6243.000000</td>\n",
       "      <td>5385.579736</td>\n",
       "      <td>7279.000000</td>\n",
       "      <td>0.0</td>\n",
       "    </tr>\n",
       "  </tbody>\n",
       "</table>\n",
       "</div>"
      ],
      "text/plain": [
       "   name  gppd_idnr  capacity_mw latitude longitude  primary_fuel  other_fuel1  \\\n",
       "0     0        657          2.5  28.1839   73.2407             6            0   \n",
       "1     1        519         98.0  24.7663    74.609             1            0   \n",
       "2     2        853         39.2  21.9038   69.3732             7            0   \n",
       "3     3          0        135.0  23.8712   91.3602             2            0   \n",
       "4     4          1       1800.0  21.9603   82.4091             1            3   \n",
       "\n",
       "  commissioning_year  owner  source year_of_capacity_data  \\\n",
       "0             2011.0    229     109                  2019   \n",
       "1               2000    258     174                  2019   \n",
       "2               2000      2      21                  2019   \n",
       "3             2004.0    280      22                2019.0   \n",
       "4             2015.0    280      22                2019.0   \n",
       "\n",
       "   generation_gwh_2013  generation_gwh_2014  generation_gwh_2015  \\\n",
       "0                  0.0          2431.823590          2428.226946   \n",
       "1                  0.0          2431.823590          2428.226946   \n",
       "2                  0.0          2431.823590          2428.226946   \n",
       "3                  0.0           617.789264           843.747000   \n",
       "4                  0.0          3035.550000          5916.370000   \n",
       "\n",
       "   generation_gwh_2016  generation_gwh_2017  generation_gwh_2018  \\\n",
       "0          2467.936859          2547.759305          2600.804099   \n",
       "1          2467.936859          2547.759305          2600.804099   \n",
       "2          2467.936859          2547.759305          2600.804099   \n",
       "3           886.004428           663.774500           626.239128   \n",
       "4          6243.000000          5385.579736          7279.000000   \n",
       "\n",
       "   generation_gwh_2019  \n",
       "0                  0.0  \n",
       "1                  0.0  \n",
       "2                  0.0  \n",
       "3                  0.0  \n",
       "4                  0.0  "
      ]
     },
     "execution_count": 39,
     "metadata": {},
     "output_type": "execute_result"
    }
   ],
   "source": [
    "# Checking for the dataset again after label encoding\n",
    "\n",
    "df.head()"
   ]
  },
  {
   "cell_type": "markdown",
   "id": "fb311c98",
   "metadata": {},
   "source": [
    "# Checking for the data distribution among all the columns:"
   ]
  },
  {
   "cell_type": "code",
   "execution_count": 40,
   "id": "f28993c1",
   "metadata": {},
   "outputs": [
    {
     "ename": "LinAlgError",
     "evalue": "singular matrix",
     "output_type": "error",
     "traceback": [
      "\u001b[1;31m---------------------------------------------------------------------------\u001b[0m",
      "\u001b[1;31mLinAlgError\u001b[0m                               Traceback (most recent call last)",
      "Input \u001b[1;32mIn [40]\u001b[0m, in \u001b[0;36m<cell line: 1>\u001b[1;34m()\u001b[0m\n\u001b[1;32m----> 1\u001b[0m \u001b[43mdf\u001b[49m\u001b[38;5;241;43m.\u001b[39;49m\u001b[43mplot\u001b[49m\u001b[43m(\u001b[49m\u001b[43mkind\u001b[49m\u001b[38;5;241;43m=\u001b[39;49m\u001b[38;5;124;43m'\u001b[39;49m\u001b[38;5;124;43mdensity\u001b[39;49m\u001b[38;5;124;43m'\u001b[39;49m\u001b[43m,\u001b[49m\u001b[43m \u001b[49m\u001b[43msubplots\u001b[49m\u001b[38;5;241;43m=\u001b[39;49m\u001b[38;5;28;43;01mTrue\u001b[39;49;00m\u001b[43m,\u001b[49m\u001b[43m \u001b[49m\u001b[43mlayout\u001b[49m\u001b[38;5;241;43m=\u001b[39;49m\u001b[43m(\u001b[49m\u001b[38;5;241;43m4\u001b[39;49m\u001b[43m,\u001b[49m\u001b[38;5;241;43m4\u001b[39;49m\u001b[43m)\u001b[49m\u001b[43m,\u001b[49m\u001b[43m \u001b[49m\u001b[43msharex\u001b[49m\u001b[38;5;241;43m=\u001b[39;49m\u001b[38;5;28;43;01mFalse\u001b[39;49;00m\u001b[43m,\u001b[49m\u001b[43m \u001b[49m\u001b[43mlegend\u001b[49m\u001b[38;5;241;43m=\u001b[39;49m\u001b[38;5;28;43;01mFalse\u001b[39;49;00m\u001b[43m,\u001b[49m\u001b[43m \u001b[49m\u001b[43mfontsize\u001b[49m\u001b[38;5;241;43m=\u001b[39;49m\u001b[38;5;241;43m1\u001b[39;49m\u001b[43m,\u001b[49m\u001b[43m \u001b[49m\u001b[43mfigsize\u001b[49m\u001b[38;5;241;43m=\u001b[39;49m\u001b[43m[\u001b[49m\u001b[38;5;241;43m18\u001b[39;49m\u001b[43m,\u001b[49m\u001b[38;5;241;43m12\u001b[39;49m\u001b[43m]\u001b[49m\u001b[43m)\u001b[49m\n\u001b[0;32m      2\u001b[0m plt\u001b[38;5;241m.\u001b[39mshow()\n",
      "File \u001b[1;32mC:\\ProgramData\\Anaconda3\\lib\\site-packages\\pandas\\plotting\\_core.py:972\u001b[0m, in \u001b[0;36mPlotAccessor.__call__\u001b[1;34m(self, *args, **kwargs)\u001b[0m\n\u001b[0;32m    969\u001b[0m             label_name \u001b[38;5;241m=\u001b[39m label_kw \u001b[38;5;129;01mor\u001b[39;00m data\u001b[38;5;241m.\u001b[39mcolumns\n\u001b[0;32m    970\u001b[0m             data\u001b[38;5;241m.\u001b[39mcolumns \u001b[38;5;241m=\u001b[39m label_name\n\u001b[1;32m--> 972\u001b[0m \u001b[38;5;28;01mreturn\u001b[39;00m plot_backend\u001b[38;5;241m.\u001b[39mplot(data, kind\u001b[38;5;241m=\u001b[39mkind, \u001b[38;5;241m*\u001b[39m\u001b[38;5;241m*\u001b[39mkwargs)\n",
      "File \u001b[1;32mC:\\ProgramData\\Anaconda3\\lib\\site-packages\\pandas\\plotting\\_matplotlib\\__init__.py:71\u001b[0m, in \u001b[0;36mplot\u001b[1;34m(data, kind, **kwargs)\u001b[0m\n\u001b[0;32m     69\u001b[0m         kwargs[\u001b[38;5;124m\"\u001b[39m\u001b[38;5;124max\u001b[39m\u001b[38;5;124m\"\u001b[39m] \u001b[38;5;241m=\u001b[39m \u001b[38;5;28mgetattr\u001b[39m(ax, \u001b[38;5;124m\"\u001b[39m\u001b[38;5;124mleft_ax\u001b[39m\u001b[38;5;124m\"\u001b[39m, ax)\n\u001b[0;32m     70\u001b[0m plot_obj \u001b[38;5;241m=\u001b[39m PLOT_CLASSES[kind](data, \u001b[38;5;241m*\u001b[39m\u001b[38;5;241m*\u001b[39mkwargs)\n\u001b[1;32m---> 71\u001b[0m \u001b[43mplot_obj\u001b[49m\u001b[38;5;241;43m.\u001b[39;49m\u001b[43mgenerate\u001b[49m\u001b[43m(\u001b[49m\u001b[43m)\u001b[49m\n\u001b[0;32m     72\u001b[0m plot_obj\u001b[38;5;241m.\u001b[39mdraw()\n\u001b[0;32m     73\u001b[0m \u001b[38;5;28;01mreturn\u001b[39;00m plot_obj\u001b[38;5;241m.\u001b[39mresult\n",
      "File \u001b[1;32mC:\\ProgramData\\Anaconda3\\lib\\site-packages\\pandas\\plotting\\_matplotlib\\core.py:329\u001b[0m, in \u001b[0;36mMPLPlot.generate\u001b[1;34m(self)\u001b[0m\n\u001b[0;32m    327\u001b[0m \u001b[38;5;28mself\u001b[39m\u001b[38;5;241m.\u001b[39m_compute_plot_data()\n\u001b[0;32m    328\u001b[0m \u001b[38;5;28mself\u001b[39m\u001b[38;5;241m.\u001b[39m_setup_subplots()\n\u001b[1;32m--> 329\u001b[0m \u001b[38;5;28;43mself\u001b[39;49m\u001b[38;5;241;43m.\u001b[39;49m\u001b[43m_make_plot\u001b[49m\u001b[43m(\u001b[49m\u001b[43m)\u001b[49m\n\u001b[0;32m    330\u001b[0m \u001b[38;5;28mself\u001b[39m\u001b[38;5;241m.\u001b[39m_add_table()\n\u001b[0;32m    331\u001b[0m \u001b[38;5;28mself\u001b[39m\u001b[38;5;241m.\u001b[39m_make_legend()\n",
      "File \u001b[1;32mC:\\ProgramData\\Anaconda3\\lib\\site-packages\\pandas\\plotting\\_matplotlib\\hist.py:140\u001b[0m, in \u001b[0;36mHistPlot._make_plot\u001b[1;34m(self)\u001b[0m\n\u001b[0;32m    137\u001b[0m \u001b[38;5;28;01mif\u001b[39;00m weights \u001b[38;5;129;01mis\u001b[39;00m \u001b[38;5;129;01mnot\u001b[39;00m \u001b[38;5;28;01mNone\u001b[39;00m \u001b[38;5;129;01mand\u001b[39;00m np\u001b[38;5;241m.\u001b[39mndim(weights) \u001b[38;5;241m!=\u001b[39m \u001b[38;5;241m1\u001b[39m:\n\u001b[0;32m    138\u001b[0m     kwds[\u001b[38;5;124m\"\u001b[39m\u001b[38;5;124mweights\u001b[39m\u001b[38;5;124m\"\u001b[39m] \u001b[38;5;241m=\u001b[39m weights[:, i]\n\u001b[1;32m--> 140\u001b[0m artists \u001b[38;5;241m=\u001b[39m \u001b[38;5;28mself\u001b[39m\u001b[38;5;241m.\u001b[39m_plot(ax, y, column_num\u001b[38;5;241m=\u001b[39mi, stacking_id\u001b[38;5;241m=\u001b[39mstacking_id, \u001b[38;5;241m*\u001b[39m\u001b[38;5;241m*\u001b[39mkwds)\n\u001b[0;32m    142\u001b[0m \u001b[38;5;66;03m# when by is applied, show title for subplots to know which group it is\u001b[39;00m\n\u001b[0;32m    143\u001b[0m \u001b[38;5;28;01mif\u001b[39;00m \u001b[38;5;28mself\u001b[39m\u001b[38;5;241m.\u001b[39mby \u001b[38;5;129;01mis\u001b[39;00m \u001b[38;5;129;01mnot\u001b[39;00m \u001b[38;5;28;01mNone\u001b[39;00m:\n",
      "File \u001b[1;32mC:\\ProgramData\\Anaconda3\\lib\\site-packages\\pandas\\plotting\\_matplotlib\\hist.py:216\u001b[0m, in \u001b[0;36mKdePlot._plot\u001b[1;34m(cls, ax, y, style, bw_method, ind, column_num, stacking_id, **kwds)\u001b[0m\n\u001b[0;32m    213\u001b[0m \u001b[38;5;28;01mfrom\u001b[39;00m \u001b[38;5;21;01mscipy\u001b[39;00m\u001b[38;5;21;01m.\u001b[39;00m\u001b[38;5;21;01mstats\u001b[39;00m \u001b[38;5;28;01mimport\u001b[39;00m gaussian_kde\n\u001b[0;32m    215\u001b[0m y \u001b[38;5;241m=\u001b[39m remove_na_arraylike(y)\n\u001b[1;32m--> 216\u001b[0m gkde \u001b[38;5;241m=\u001b[39m \u001b[43mgaussian_kde\u001b[49m\u001b[43m(\u001b[49m\u001b[43my\u001b[49m\u001b[43m,\u001b[49m\u001b[43m \u001b[49m\u001b[43mbw_method\u001b[49m\u001b[38;5;241;43m=\u001b[39;49m\u001b[43mbw_method\u001b[49m\u001b[43m)\u001b[49m\n\u001b[0;32m    218\u001b[0m y \u001b[38;5;241m=\u001b[39m gkde\u001b[38;5;241m.\u001b[39mevaluate(ind)\n\u001b[0;32m    219\u001b[0m lines \u001b[38;5;241m=\u001b[39m MPLPlot\u001b[38;5;241m.\u001b[39m_plot(ax, ind, y, style\u001b[38;5;241m=\u001b[39mstyle, \u001b[38;5;241m*\u001b[39m\u001b[38;5;241m*\u001b[39mkwds)\n",
      "File \u001b[1;32mC:\\ProgramData\\Anaconda3\\lib\\site-packages\\scipy\\stats\\kde.py:206\u001b[0m, in \u001b[0;36mgaussian_kde.__init__\u001b[1;34m(self, dataset, bw_method, weights)\u001b[0m\n\u001b[0;32m    203\u001b[0m         \u001b[38;5;28;01mraise\u001b[39;00m \u001b[38;5;167;01mValueError\u001b[39;00m(\u001b[38;5;124m\"\u001b[39m\u001b[38;5;124m`weights` input should be of length n\u001b[39m\u001b[38;5;124m\"\u001b[39m)\n\u001b[0;32m    204\u001b[0m     \u001b[38;5;28mself\u001b[39m\u001b[38;5;241m.\u001b[39m_neff \u001b[38;5;241m=\u001b[39m \u001b[38;5;241m1\u001b[39m\u001b[38;5;241m/\u001b[39m\u001b[38;5;28msum\u001b[39m(\u001b[38;5;28mself\u001b[39m\u001b[38;5;241m.\u001b[39m_weights\u001b[38;5;241m*\u001b[39m\u001b[38;5;241m*\u001b[39m\u001b[38;5;241m2\u001b[39m)\n\u001b[1;32m--> 206\u001b[0m \u001b[38;5;28;43mself\u001b[39;49m\u001b[38;5;241;43m.\u001b[39;49m\u001b[43mset_bandwidth\u001b[49m\u001b[43m(\u001b[49m\u001b[43mbw_method\u001b[49m\u001b[38;5;241;43m=\u001b[39;49m\u001b[43mbw_method\u001b[49m\u001b[43m)\u001b[49m\n",
      "File \u001b[1;32mC:\\ProgramData\\Anaconda3\\lib\\site-packages\\scipy\\stats\\kde.py:554\u001b[0m, in \u001b[0;36mgaussian_kde.set_bandwidth\u001b[1;34m(self, bw_method)\u001b[0m\n\u001b[0;32m    550\u001b[0m     msg \u001b[38;5;241m=\u001b[39m \u001b[38;5;124m\"\u001b[39m\u001b[38;5;124m`bw_method` should be \u001b[39m\u001b[38;5;124m'\u001b[39m\u001b[38;5;124mscott\u001b[39m\u001b[38;5;124m'\u001b[39m\u001b[38;5;124m, \u001b[39m\u001b[38;5;124m'\u001b[39m\u001b[38;5;124msilverman\u001b[39m\u001b[38;5;124m'\u001b[39m\u001b[38;5;124m, a scalar \u001b[39m\u001b[38;5;124m\"\u001b[39m \\\n\u001b[0;32m    551\u001b[0m           \u001b[38;5;124m\"\u001b[39m\u001b[38;5;124mor a callable.\u001b[39m\u001b[38;5;124m\"\u001b[39m\n\u001b[0;32m    552\u001b[0m     \u001b[38;5;28;01mraise\u001b[39;00m \u001b[38;5;167;01mValueError\u001b[39;00m(msg)\n\u001b[1;32m--> 554\u001b[0m \u001b[38;5;28;43mself\u001b[39;49m\u001b[38;5;241;43m.\u001b[39;49m\u001b[43m_compute_covariance\u001b[49m\u001b[43m(\u001b[49m\u001b[43m)\u001b[49m\n",
      "File \u001b[1;32mC:\\ProgramData\\Anaconda3\\lib\\site-packages\\scipy\\stats\\kde.py:566\u001b[0m, in \u001b[0;36mgaussian_kde._compute_covariance\u001b[1;34m(self)\u001b[0m\n\u001b[0;32m    562\u001b[0m \u001b[38;5;28;01mif\u001b[39;00m \u001b[38;5;129;01mnot\u001b[39;00m \u001b[38;5;28mhasattr\u001b[39m(\u001b[38;5;28mself\u001b[39m, \u001b[38;5;124m'\u001b[39m\u001b[38;5;124m_data_inv_cov\u001b[39m\u001b[38;5;124m'\u001b[39m):\n\u001b[0;32m    563\u001b[0m     \u001b[38;5;28mself\u001b[39m\u001b[38;5;241m.\u001b[39m_data_covariance \u001b[38;5;241m=\u001b[39m atleast_2d(cov(\u001b[38;5;28mself\u001b[39m\u001b[38;5;241m.\u001b[39mdataset, rowvar\u001b[38;5;241m=\u001b[39m\u001b[38;5;241m1\u001b[39m,\n\u001b[0;32m    564\u001b[0m                                        bias\u001b[38;5;241m=\u001b[39m\u001b[38;5;28;01mFalse\u001b[39;00m,\n\u001b[0;32m    565\u001b[0m                                        aweights\u001b[38;5;241m=\u001b[39m\u001b[38;5;28mself\u001b[39m\u001b[38;5;241m.\u001b[39mweights))\n\u001b[1;32m--> 566\u001b[0m     \u001b[38;5;28mself\u001b[39m\u001b[38;5;241m.\u001b[39m_data_inv_cov \u001b[38;5;241m=\u001b[39m \u001b[43mlinalg\u001b[49m\u001b[38;5;241;43m.\u001b[39;49m\u001b[43minv\u001b[49m\u001b[43m(\u001b[49m\u001b[38;5;28;43mself\u001b[39;49m\u001b[38;5;241;43m.\u001b[39;49m\u001b[43m_data_covariance\u001b[49m\u001b[43m)\u001b[49m\n\u001b[0;32m    568\u001b[0m \u001b[38;5;28mself\u001b[39m\u001b[38;5;241m.\u001b[39mcovariance \u001b[38;5;241m=\u001b[39m \u001b[38;5;28mself\u001b[39m\u001b[38;5;241m.\u001b[39m_data_covariance \u001b[38;5;241m*\u001b[39m \u001b[38;5;28mself\u001b[39m\u001b[38;5;241m.\u001b[39mfactor\u001b[38;5;241m*\u001b[39m\u001b[38;5;241m*\u001b[39m\u001b[38;5;241m2\u001b[39m\n\u001b[0;32m    569\u001b[0m \u001b[38;5;28mself\u001b[39m\u001b[38;5;241m.\u001b[39minv_cov \u001b[38;5;241m=\u001b[39m \u001b[38;5;28mself\u001b[39m\u001b[38;5;241m.\u001b[39m_data_inv_cov \u001b[38;5;241m/\u001b[39m \u001b[38;5;28mself\u001b[39m\u001b[38;5;241m.\u001b[39mfactor\u001b[38;5;241m*\u001b[39m\u001b[38;5;241m*\u001b[39m\u001b[38;5;241m2\u001b[39m\n",
      "File \u001b[1;32mC:\\ProgramData\\Anaconda3\\lib\\site-packages\\scipy\\linalg\\basic.py:968\u001b[0m, in \u001b[0;36minv\u001b[1;34m(a, overwrite_a, check_finite)\u001b[0m\n\u001b[0;32m    966\u001b[0m     inv_a, info \u001b[38;5;241m=\u001b[39m getri(lu, piv, lwork\u001b[38;5;241m=\u001b[39mlwork, overwrite_lu\u001b[38;5;241m=\u001b[39m\u001b[38;5;241m1\u001b[39m)\n\u001b[0;32m    967\u001b[0m \u001b[38;5;28;01mif\u001b[39;00m info \u001b[38;5;241m>\u001b[39m \u001b[38;5;241m0\u001b[39m:\n\u001b[1;32m--> 968\u001b[0m     \u001b[38;5;28;01mraise\u001b[39;00m LinAlgError(\u001b[38;5;124m\"\u001b[39m\u001b[38;5;124msingular matrix\u001b[39m\u001b[38;5;124m\"\u001b[39m)\n\u001b[0;32m    969\u001b[0m \u001b[38;5;28;01mif\u001b[39;00m info \u001b[38;5;241m<\u001b[39m \u001b[38;5;241m0\u001b[39m:\n\u001b[0;32m    970\u001b[0m     \u001b[38;5;28;01mraise\u001b[39;00m \u001b[38;5;167;01mValueError\u001b[39;00m(\u001b[38;5;124m'\u001b[39m\u001b[38;5;124millegal value in \u001b[39m\u001b[38;5;132;01m%d\u001b[39;00m\u001b[38;5;124m-th argument of internal \u001b[39m\u001b[38;5;124m'\u001b[39m\n\u001b[0;32m    971\u001b[0m                      \u001b[38;5;124m'\u001b[39m\u001b[38;5;124mgetrf|getri\u001b[39m\u001b[38;5;124m'\u001b[39m \u001b[38;5;241m%\u001b[39m \u001b[38;5;241m-\u001b[39minfo)\n",
      "\u001b[1;31mLinAlgError\u001b[0m: singular matrix"
     ]
    },
    {
     "data": {
      "image/png": "[encoded data removed]",
      "text/plain": [
       "<Figure size 1296x864 with 16 Axes>"
      ]
     },
     "metadata": {
      "needs_background": "light"
     },
     "output_type": "display_data"
    }
   ],
   "source": [
    "df.plot(kind='density', subplots=True, layout=(4,4), sharex=False, legend=False, fontsize=1, figsize=[18,12])\n",
    "plt.show()"
   ]
  },
  {
   "cell_type": "markdown",
   "id": "0e169b56",
   "metadata": {},
   "source": [
    "# Statistical Summary"
   ]
  },
  {
   "cell_type": "code",
   "execution_count": 41,
   "id": "e0b1de0f",
   "metadata": {},
   "outputs": [
    {
     "data": {
      "text/html": [
       "<div>\n",
       "<style scoped>\n",
       "    .dataframe tbody tr th:only-of-type {\n",
       "        vertical-align: middle;\n",
       "    }\n",
       "\n",
       "    .dataframe tbody tr th {\n",
       "        vertical-align: top;\n",
       "    }\n",
       "\n",
       "    .dataframe thead th {\n",
       "        text-align: right;\n",
       "    }\n",
       "</style>\n",
       "<table border=\"1\" class=\"dataframe\">\n",
       "  <thead>\n",
       "    <tr style=\"text-align: right;\">\n",
       "      <th></th>\n",
       "      <th>name</th>\n",
       "      <th>gppd_idnr</th>\n",
       "      <th>capacity_mw</th>\n",
       "      <th>primary_fuel</th>\n",
       "      <th>other_fuel1</th>\n",
       "      <th>owner</th>\n",
       "      <th>source</th>\n",
       "      <th>generation_gwh_2013</th>\n",
       "      <th>generation_gwh_2014</th>\n",
       "      <th>generation_gwh_2015</th>\n",
       "      <th>generation_gwh_2016</th>\n",
       "      <th>generation_gwh_2017</th>\n",
       "      <th>generation_gwh_2018</th>\n",
       "      <th>generation_gwh_2019</th>\n",
       "    </tr>\n",
       "  </thead>\n",
       "  <tbody>\n",
       "    <tr>\n",
       "      <th>count</th>\n",
       "      <td>907.000000</td>\n",
       "      <td>907.000000</td>\n",
       "      <td>907.000000</td>\n",
       "      <td>907.000000</td>\n",
       "      <td>907.000000</td>\n",
       "      <td>907.000000</td>\n",
       "      <td>907.000000</td>\n",
       "      <td>907.0</td>\n",
       "      <td>907.000000</td>\n",
       "      <td>907.000000</td>\n",
       "      <td>907.000000</td>\n",
       "      <td>907.000000</td>\n",
       "      <td>907.000000</td>\n",
       "      <td>907.0</td>\n",
       "    </tr>\n",
       "    <tr>\n",
       "      <th>mean</th>\n",
       "      <td>453.000000</td>\n",
       "      <td>453.000000</td>\n",
       "      <td>326.223755</td>\n",
       "      <td>3.206174</td>\n",
       "      <td>0.650496</td>\n",
       "      <td>227.476295</td>\n",
       "      <td>43.847850</td>\n",
       "      <td>0.0</td>\n",
       "      <td>2431.823590</td>\n",
       "      <td>2428.226946</td>\n",
       "      <td>2467.936859</td>\n",
       "      <td>2547.759305</td>\n",
       "      <td>2600.804099</td>\n",
       "      <td>0.0</td>\n",
       "    </tr>\n",
       "    <tr>\n",
       "      <th>std</th>\n",
       "      <td>261.972645</td>\n",
       "      <td>261.972645</td>\n",
       "      <td>590.085456</td>\n",
       "      <td>2.280652</td>\n",
       "      <td>1.234264</td>\n",
       "      <td>83.924045</td>\n",
       "      <td>44.642818</td>\n",
       "      <td>0.0</td>\n",
       "      <td>2665.338608</td>\n",
       "      <td>2859.349132</td>\n",
       "      <td>2877.890004</td>\n",
       "      <td>2921.502193</td>\n",
       "      <td>3030.808041</td>\n",
       "      <td>0.0</td>\n",
       "    </tr>\n",
       "    <tr>\n",
       "      <th>min</th>\n",
       "      <td>0.000000</td>\n",
       "      <td>0.000000</td>\n",
       "      <td>0.000000</td>\n",
       "      <td>0.000000</td>\n",
       "      <td>0.000000</td>\n",
       "      <td>0.000000</td>\n",
       "      <td>0.000000</td>\n",
       "      <td>0.0</td>\n",
       "      <td>0.000000</td>\n",
       "      <td>0.000000</td>\n",
       "      <td>0.000000</td>\n",
       "      <td>0.000000</td>\n",
       "      <td>0.000000</td>\n",
       "      <td>0.0</td>\n",
       "    </tr>\n",
       "    <tr>\n",
       "      <th>25%</th>\n",
       "      <td>226.500000</td>\n",
       "      <td>226.500000</td>\n",
       "      <td>16.725000</td>\n",
       "      <td>1.000000</td>\n",
       "      <td>0.000000</td>\n",
       "      <td>188.500000</td>\n",
       "      <td>22.000000</td>\n",
       "      <td>0.0</td>\n",
       "      <td>1211.362750</td>\n",
       "      <td>916.000000</td>\n",
       "      <td>896.500214</td>\n",
       "      <td>882.594850</td>\n",
       "      <td>824.842340</td>\n",
       "      <td>0.0</td>\n",
       "    </tr>\n",
       "    <tr>\n",
       "      <th>50%</th>\n",
       "      <td>453.000000</td>\n",
       "      <td>453.000000</td>\n",
       "      <td>59.200000</td>\n",
       "      <td>3.000000</td>\n",
       "      <td>0.000000</td>\n",
       "      <td>280.000000</td>\n",
       "      <td>22.000000</td>\n",
       "      <td>0.0</td>\n",
       "      <td>2431.823590</td>\n",
       "      <td>2428.226946</td>\n",
       "      <td>2467.936859</td>\n",
       "      <td>2547.759305</td>\n",
       "      <td>2600.804099</td>\n",
       "      <td>0.0</td>\n",
       "    </tr>\n",
       "    <tr>\n",
       "      <th>75%</th>\n",
       "      <td>679.500000</td>\n",
       "      <td>679.500000</td>\n",
       "      <td>385.250000</td>\n",
       "      <td>6.000000</td>\n",
       "      <td>0.000000</td>\n",
       "      <td>280.000000</td>\n",
       "      <td>29.500000</td>\n",
       "      <td>0.0</td>\n",
       "      <td>2431.823590</td>\n",
       "      <td>2428.226946</td>\n",
       "      <td>2467.936859</td>\n",
       "      <td>2547.759305</td>\n",
       "      <td>2600.804099</td>\n",
       "      <td>0.0</td>\n",
       "    </tr>\n",
       "    <tr>\n",
       "      <th>max</th>\n",
       "      <td>906.000000</td>\n",
       "      <td>906.000000</td>\n",
       "      <td>4760.000000</td>\n",
       "      <td>7.000000</td>\n",
       "      <td>3.000000</td>\n",
       "      <td>280.000000</td>\n",
       "      <td>190.000000</td>\n",
       "      <td>0.0</td>\n",
       "      <td>28127.000000</td>\n",
       "      <td>30539.000000</td>\n",
       "      <td>30015.000000</td>\n",
       "      <td>35116.000000</td>\n",
       "      <td>35136.000000</td>\n",
       "      <td>0.0</td>\n",
       "    </tr>\n",
       "  </tbody>\n",
       "</table>\n",
       "</div>"
      ],
      "text/plain": [
       "             name   gppd_idnr  capacity_mw  primary_fuel  other_fuel1  \\\n",
       "count  907.000000  907.000000   907.000000    907.000000   907.000000   \n",
       "mean   453.000000  453.000000   326.223755      3.206174     0.650496   \n",
       "std    261.972645  261.972645   590.085456      2.280652     1.234264   \n",
       "min      0.000000    0.000000     0.000000      0.000000     0.000000   \n",
       "25%    226.500000  226.500000    16.725000      1.000000     0.000000   \n",
       "50%    453.000000  453.000000    59.200000      3.000000     0.000000   \n",
       "75%    679.500000  679.500000   385.250000      6.000000     0.000000   \n",
       "max    906.000000  906.000000  4760.000000      7.000000     3.000000   \n",
       "\n",
       "            owner      source  generation_gwh_2013  generation_gwh_2014  \\\n",
       "count  907.000000  907.000000                907.0           907.000000   \n",
       "mean   227.476295   43.847850                  0.0          2431.823590   \n",
       "std     83.924045   44.642818                  0.0          2665.338608   \n",
       "min      0.000000    0.000000                  0.0             0.000000   \n",
       "25%    188.500000   22.000000                  0.0          1211.362750   \n",
       "50%    280.000000   22.000000                  0.0          2431.823590   \n",
       "75%    280.000000   29.500000                  0.0          2431.823590   \n",
       "max    280.000000  190.000000                  0.0         28127.000000   \n",
       "\n",
       "       generation_gwh_2015  generation_gwh_2016  generation_gwh_2017  \\\n",
       "count           907.000000           907.000000           907.000000   \n",
       "mean           2428.226946          2467.936859          2547.759305   \n",
       "std            2859.349132          2877.890004          2921.502193   \n",
       "min               0.000000             0.000000             0.000000   \n",
       "25%             916.000000           896.500214           882.594850   \n",
       "50%            2428.226946          2467.936859          2547.759305   \n",
       "75%            2428.226946          2467.936859          2547.759305   \n",
       "max           30539.000000         30015.000000         35116.000000   \n",
       "\n",
       "       generation_gwh_2018  generation_gwh_2019  \n",
       "count           907.000000                907.0  \n",
       "mean           2600.804099                  0.0  \n",
       "std            3030.808041                  0.0  \n",
       "min               0.000000                  0.0  \n",
       "25%             824.842340                  0.0  \n",
       "50%            2600.804099                  0.0  \n",
       "75%            2600.804099                  0.0  \n",
       "max           35136.000000                  0.0  "
      ]
     },
     "execution_count": 41,
     "metadata": {},
     "output_type": "execute_result"
    }
   ],
   "source": [
    "df.describe()"
   ]
  },
  {
   "cell_type": "code",
   "execution_count": 42,
   "id": "64fbeb48",
   "metadata": {},
   "outputs": [
    {
     "data": {
      "image/png": "[encoded data removed]",
      "text/plain": [
       "<Figure size 1800x1080 with 2 Axes>"
      ]
     },
     "metadata": {
      "needs_background": "light"
     },
     "output_type": "display_data"
    }
   ],
   "source": [
    "# Plotting Heatmap for Statistical Summary\n",
    "\n",
    "plt.figure(figsize=[25,15])\n",
    "sns.heatmap(round(df.describe()[1:].transpose(),2), annot=True, linewidths=0.25, linecolor='white', fmt='f')\n",
    "plt.title('Statistical Summary')\n",
    "plt.show()"
   ]
  },
  {
   "cell_type": "markdown",
   "id": "afa03c08",
   "metadata": {},
   "source": [
    "# Correlation of the variables"
   ]
  },
  {
   "cell_type": "code",
   "execution_count": 43,
   "id": "30738936",
   "metadata": {},
   "outputs": [
    {
     "data": {
      "text/html": [
       "<div>\n",
       "<style scoped>\n",
       "    .dataframe tbody tr th:only-of-type {\n",
       "        vertical-align: middle;\n",
       "    }\n",
       "\n",
       "    .dataframe tbody tr th {\n",
       "        vertical-align: top;\n",
       "    }\n",
       "\n",
       "    .dataframe thead th {\n",
       "        text-align: right;\n",
       "    }\n",
       "</style>\n",
       "<table border=\"1\" class=\"dataframe\">\n",
       "  <thead>\n",
       "    <tr style=\"text-align: right;\">\n",
       "      <th></th>\n",
       "      <th>name</th>\n",
       "      <th>gppd_idnr</th>\n",
       "      <th>capacity_mw</th>\n",
       "      <th>primary_fuel</th>\n",
       "      <th>other_fuel1</th>\n",
       "      <th>owner</th>\n",
       "      <th>source</th>\n",
       "      <th>generation_gwh_2013</th>\n",
       "      <th>generation_gwh_2014</th>\n",
       "      <th>generation_gwh_2015</th>\n",
       "      <th>generation_gwh_2016</th>\n",
       "      <th>generation_gwh_2017</th>\n",
       "      <th>generation_gwh_2018</th>\n",
       "      <th>generation_gwh_2019</th>\n",
       "    </tr>\n",
       "  </thead>\n",
       "  <tbody>\n",
       "    <tr>\n",
       "      <th>name</th>\n",
       "      <td>1.000000</td>\n",
       "      <td>0.332205</td>\n",
       "      <td>0.060240</td>\n",
       "      <td>0.040753</td>\n",
       "      <td>0.017051</td>\n",
       "      <td>1.179542e-01</td>\n",
       "      <td>-1.463951e-02</td>\n",
       "      <td>NaN</td>\n",
       "      <td>8.375890e-02</td>\n",
       "      <td>7.366460e-02</td>\n",
       "      <td>6.617668e-02</td>\n",
       "      <td>7.363387e-02</td>\n",
       "      <td>6.663814e-02</td>\n",
       "      <td>NaN</td>\n",
       "    </tr>\n",
       "    <tr>\n",
       "      <th>gppd_idnr</th>\n",
       "      <td>0.332205</td>\n",
       "      <td>1.000000</td>\n",
       "      <td>-0.335742</td>\n",
       "      <td>0.609180</td>\n",
       "      <td>-0.382561</td>\n",
       "      <td>-6.020381e-01</td>\n",
       "      <td>4.163838e-01</td>\n",
       "      <td>NaN</td>\n",
       "      <td>4.451808e-02</td>\n",
       "      <td>3.895798e-02</td>\n",
       "      <td>2.683096e-02</td>\n",
       "      <td>2.285274e-02</td>\n",
       "      <td>1.926543e-02</td>\n",
       "      <td>NaN</td>\n",
       "    </tr>\n",
       "    <tr>\n",
       "      <th>capacity_mw</th>\n",
       "      <td>0.060240</td>\n",
       "      <td>-0.335742</td>\n",
       "      <td>1.000000</td>\n",
       "      <td>-0.380395</td>\n",
       "      <td>0.633525</td>\n",
       "      <td>3.043221e-01</td>\n",
       "      <td>-2.421218e-01</td>\n",
       "      <td>NaN</td>\n",
       "      <td>6.943503e-01</td>\n",
       "      <td>7.111899e-01</td>\n",
       "      <td>7.422211e-01</td>\n",
       "      <td>7.575852e-01</td>\n",
       "      <td>7.734556e-01</td>\n",
       "      <td>NaN</td>\n",
       "    </tr>\n",
       "    <tr>\n",
       "      <th>primary_fuel</th>\n",
       "      <td>0.040753</td>\n",
       "      <td>0.609180</td>\n",
       "      <td>-0.380395</td>\n",
       "      <td>1.000000</td>\n",
       "      <td>-0.495875</td>\n",
       "      <td>-2.603893e-01</td>\n",
       "      <td>5.361263e-02</td>\n",
       "      <td>NaN</td>\n",
       "      <td>-1.247688e-01</td>\n",
       "      <td>-1.248280e-01</td>\n",
       "      <td>-1.310514e-01</td>\n",
       "      <td>-1.320034e-01</td>\n",
       "      <td>-1.369831e-01</td>\n",
       "      <td>NaN</td>\n",
       "    </tr>\n",
       "    <tr>\n",
       "      <th>other_fuel1</th>\n",
       "      <td>0.017051</td>\n",
       "      <td>-0.382561</td>\n",
       "      <td>0.633525</td>\n",
       "      <td>-0.495875</td>\n",
       "      <td>1.000000</td>\n",
       "      <td>3.302058e-01</td>\n",
       "      <td>-2.582099e-01</td>\n",
       "      <td>NaN</td>\n",
       "      <td>3.595285e-01</td>\n",
       "      <td>3.559597e-01</td>\n",
       "      <td>3.753686e-01</td>\n",
       "      <td>3.855536e-01</td>\n",
       "      <td>3.908876e-01</td>\n",
       "      <td>NaN</td>\n",
       "    </tr>\n",
       "    <tr>\n",
       "      <th>owner</th>\n",
       "      <td>0.117954</td>\n",
       "      <td>-0.602038</td>\n",
       "      <td>0.304322</td>\n",
       "      <td>-0.260389</td>\n",
       "      <td>0.330206</td>\n",
       "      <td>1.000000e+00</td>\n",
       "      <td>-2.435874e-01</td>\n",
       "      <td>NaN</td>\n",
       "      <td>-2.743044e-16</td>\n",
       "      <td>-9.981670e-17</td>\n",
       "      <td>-2.334202e-17</td>\n",
       "      <td>8.369181e-17</td>\n",
       "      <td>-6.497742e-17</td>\n",
       "      <td>NaN</td>\n",
       "    </tr>\n",
       "    <tr>\n",
       "      <th>source</th>\n",
       "      <td>-0.014640</td>\n",
       "      <td>0.416384</td>\n",
       "      <td>-0.242122</td>\n",
       "      <td>0.053613</td>\n",
       "      <td>-0.258210</td>\n",
       "      <td>-2.435874e-01</td>\n",
       "      <td>1.000000e+00</td>\n",
       "      <td>NaN</td>\n",
       "      <td>1.917854e-18</td>\n",
       "      <td>-2.160931e-17</td>\n",
       "      <td>-4.925637e-17</td>\n",
       "      <td>-1.284552e-16</td>\n",
       "      <td>1.092118e-17</td>\n",
       "      <td>NaN</td>\n",
       "    </tr>\n",
       "    <tr>\n",
       "      <th>generation_gwh_2013</th>\n",
       "      <td>NaN</td>\n",
       "      <td>NaN</td>\n",
       "      <td>NaN</td>\n",
       "      <td>NaN</td>\n",
       "      <td>NaN</td>\n",
       "      <td>NaN</td>\n",
       "      <td>NaN</td>\n",
       "      <td>NaN</td>\n",
       "      <td>NaN</td>\n",
       "      <td>NaN</td>\n",
       "      <td>NaN</td>\n",
       "      <td>NaN</td>\n",
       "      <td>NaN</td>\n",
       "      <td>NaN</td>\n",
       "    </tr>\n",
       "    <tr>\n",
       "      <th>generation_gwh_2014</th>\n",
       "      <td>0.083759</td>\n",
       "      <td>0.044518</td>\n",
       "      <td>0.694350</td>\n",
       "      <td>-0.124769</td>\n",
       "      <td>0.359529</td>\n",
       "      <td>-2.743044e-16</td>\n",
       "      <td>1.917854e-18</td>\n",
       "      <td>NaN</td>\n",
       "      <td>1.000000e+00</td>\n",
       "      <td>9.535943e-01</td>\n",
       "      <td>9.258738e-01</td>\n",
       "      <td>8.916868e-01</td>\n",
       "      <td>8.849556e-01</td>\n",
       "      <td>NaN</td>\n",
       "    </tr>\n",
       "    <tr>\n",
       "      <th>generation_gwh_2015</th>\n",
       "      <td>0.073665</td>\n",
       "      <td>0.038958</td>\n",
       "      <td>0.711190</td>\n",
       "      <td>-0.124828</td>\n",
       "      <td>0.355960</td>\n",
       "      <td>-9.981670e-17</td>\n",
       "      <td>-2.160931e-17</td>\n",
       "      <td>NaN</td>\n",
       "      <td>9.535943e-01</td>\n",
       "      <td>1.000000e+00</td>\n",
       "      <td>9.688877e-01</td>\n",
       "      <td>9.282425e-01</td>\n",
       "      <td>9.234611e-01</td>\n",
       "      <td>NaN</td>\n",
       "    </tr>\n",
       "    <tr>\n",
       "      <th>generation_gwh_2016</th>\n",
       "      <td>0.066177</td>\n",
       "      <td>0.026831</td>\n",
       "      <td>0.742221</td>\n",
       "      <td>-0.131051</td>\n",
       "      <td>0.375369</td>\n",
       "      <td>-2.334202e-17</td>\n",
       "      <td>-4.925637e-17</td>\n",
       "      <td>NaN</td>\n",
       "      <td>9.258738e-01</td>\n",
       "      <td>9.688877e-01</td>\n",
       "      <td>1.000000e+00</td>\n",
       "      <td>9.646488e-01</td>\n",
       "      <td>9.571589e-01</td>\n",
       "      <td>NaN</td>\n",
       "    </tr>\n",
       "    <tr>\n",
       "      <th>generation_gwh_2017</th>\n",
       "      <td>0.073634</td>\n",
       "      <td>0.022853</td>\n",
       "      <td>0.757585</td>\n",
       "      <td>-0.132003</td>\n",
       "      <td>0.385554</td>\n",
       "      <td>8.369181e-17</td>\n",
       "      <td>-1.284552e-16</td>\n",
       "      <td>NaN</td>\n",
       "      <td>8.916868e-01</td>\n",
       "      <td>9.282425e-01</td>\n",
       "      <td>9.646488e-01</td>\n",
       "      <td>1.000000e+00</td>\n",
       "      <td>9.826888e-01</td>\n",
       "      <td>NaN</td>\n",
       "    </tr>\n",
       "    <tr>\n",
       "      <th>generation_gwh_2018</th>\n",
       "      <td>0.066638</td>\n",
       "      <td>0.019265</td>\n",
       "      <td>0.773456</td>\n",
       "      <td>-0.136983</td>\n",
       "      <td>0.390888</td>\n",
       "      <td>-6.497742e-17</td>\n",
       "      <td>1.092118e-17</td>\n",
       "      <td>NaN</td>\n",
       "      <td>8.849556e-01</td>\n",
       "      <td>9.234611e-01</td>\n",
       "      <td>9.571589e-01</td>\n",
       "      <td>9.826888e-01</td>\n",
       "      <td>1.000000e+00</td>\n",
       "      <td>NaN</td>\n",
       "    </tr>\n",
       "    <tr>\n",
       "      <th>generation_gwh_2019</th>\n",
       "      <td>NaN</td>\n",
       "      <td>NaN</td>\n",
       "      <td>NaN</td>\n",
       "      <td>NaN</td>\n",
       "      <td>NaN</td>\n",
       "      <td>NaN</td>\n",
       "      <td>NaN</td>\n",
       "      <td>NaN</td>\n",
       "      <td>NaN</td>\n",
       "      <td>NaN</td>\n",
       "      <td>NaN</td>\n",
       "      <td>NaN</td>\n",
       "      <td>NaN</td>\n",
       "      <td>NaN</td>\n",
       "    </tr>\n",
       "  </tbody>\n",
       "</table>\n",
       "</div>"
      ],
      "text/plain": [
       "                         name  gppd_idnr  capacity_mw  primary_fuel  \\\n",
       "name                 1.000000   0.332205     0.060240      0.040753   \n",
       "gppd_idnr            0.332205   1.000000    -0.335742      0.609180   \n",
       "capacity_mw          0.060240  -0.335742     1.000000     -0.380395   \n",
       "primary_fuel         0.040753   0.609180    -0.380395      1.000000   \n",
       "other_fuel1          0.017051  -0.382561     0.633525     -0.495875   \n",
       "owner                0.117954  -0.602038     0.304322     -0.260389   \n",
       "source              -0.014640   0.416384    -0.242122      0.053613   \n",
       "generation_gwh_2013       NaN        NaN          NaN           NaN   \n",
       "generation_gwh_2014  0.083759   0.044518     0.694350     -0.124769   \n",
       "generation_gwh_2015  0.073665   0.038958     0.711190     -0.124828   \n",
       "generation_gwh_2016  0.066177   0.026831     0.742221     -0.131051   \n",
       "generation_gwh_2017  0.073634   0.022853     0.757585     -0.132003   \n",
       "generation_gwh_2018  0.066638   0.019265     0.773456     -0.136983   \n",
       "generation_gwh_2019       NaN        NaN          NaN           NaN   \n",
       "\n",
       "                     other_fuel1         owner        source  \\\n",
       "name                    0.017051  1.179542e-01 -1.463951e-02   \n",
       "gppd_idnr              -0.382561 -6.020381e-01  4.163838e-01   \n",
       "capacity_mw             0.633525  3.043221e-01 -2.421218e-01   \n",
       "primary_fuel           -0.495875 -2.603893e-01  5.361263e-02   \n",
       "other_fuel1             1.000000  3.302058e-01 -2.582099e-01   \n",
       "owner                   0.330206  1.000000e+00 -2.435874e-01   \n",
       "source                 -0.258210 -2.435874e-01  1.000000e+00   \n",
       "generation_gwh_2013          NaN           NaN           NaN   \n",
       "generation_gwh_2014     0.359529 -2.743044e-16  1.917854e-18   \n",
       "generation_gwh_2015     0.355960 -9.981670e-17 -2.160931e-17   \n",
       "generation_gwh_2016     0.375369 -2.334202e-17 -4.925637e-17   \n",
       "generation_gwh_2017     0.385554  8.369181e-17 -1.284552e-16   \n",
       "generation_gwh_2018     0.390888 -6.497742e-17  1.092118e-17   \n",
       "generation_gwh_2019          NaN           NaN           NaN   \n",
       "\n",
       "                     generation_gwh_2013  generation_gwh_2014  \\\n",
       "name                                 NaN         8.375890e-02   \n",
       "gppd_idnr                            NaN         4.451808e-02   \n",
       "capacity_mw                          NaN         6.943503e-01   \n",
       "primary_fuel                         NaN        -1.247688e-01   \n",
       "other_fuel1                          NaN         3.595285e-01   \n",
       "owner                                NaN        -2.743044e-16   \n",
       "source                               NaN         1.917854e-18   \n",
       "generation_gwh_2013                  NaN                  NaN   \n",
       "generation_gwh_2014                  NaN         1.000000e+00   \n",
       "generation_gwh_2015                  NaN         9.535943e-01   \n",
       "generation_gwh_2016                  NaN         9.258738e-01   \n",
       "generation_gwh_2017                  NaN         8.916868e-01   \n",
       "generation_gwh_2018                  NaN         8.849556e-01   \n",
       "generation_gwh_2019                  NaN                  NaN   \n",
       "\n",
       "                     generation_gwh_2015  generation_gwh_2016  \\\n",
       "name                        7.366460e-02         6.617668e-02   \n",
       "gppd_idnr                   3.895798e-02         2.683096e-02   \n",
       "capacity_mw                 7.111899e-01         7.422211e-01   \n",
       "primary_fuel               -1.248280e-01        -1.310514e-01   \n",
       "other_fuel1                 3.559597e-01         3.753686e-01   \n",
       "owner                      -9.981670e-17        -2.334202e-17   \n",
       "source                     -2.160931e-17        -4.925637e-17   \n",
       "generation_gwh_2013                  NaN                  NaN   \n",
       "generation_gwh_2014         9.535943e-01         9.258738e-01   \n",
       "generation_gwh_2015         1.000000e+00         9.688877e-01   \n",
       "generation_gwh_2016         9.688877e-01         1.000000e+00   \n",
       "generation_gwh_2017         9.282425e-01         9.646488e-01   \n",
       "generation_gwh_2018         9.234611e-01         9.571589e-01   \n",
       "generation_gwh_2019                  NaN                  NaN   \n",
       "\n",
       "                     generation_gwh_2017  generation_gwh_2018  \\\n",
       "name                        7.363387e-02         6.663814e-02   \n",
       "gppd_idnr                   2.285274e-02         1.926543e-02   \n",
       "capacity_mw                 7.575852e-01         7.734556e-01   \n",
       "primary_fuel               -1.320034e-01        -1.369831e-01   \n",
       "other_fuel1                 3.855536e-01         3.908876e-01   \n",
       "owner                       8.369181e-17        -6.497742e-17   \n",
       "source                     -1.284552e-16         1.092118e-17   \n",
       "generation_gwh_2013                  NaN                  NaN   \n",
       "generation_gwh_2014         8.916868e-01         8.849556e-01   \n",
       "generation_gwh_2015         9.282425e-01         9.234611e-01   \n",
       "generation_gwh_2016         9.646488e-01         9.571589e-01   \n",
       "generation_gwh_2017         1.000000e+00         9.826888e-01   \n",
       "generation_gwh_2018         9.826888e-01         1.000000e+00   \n",
       "generation_gwh_2019                  NaN                  NaN   \n",
       "\n",
       "                     generation_gwh_2019  \n",
       "name                                 NaN  \n",
       "gppd_idnr                            NaN  \n",
       "capacity_mw                          NaN  \n",
       "primary_fuel                         NaN  \n",
       "other_fuel1                          NaN  \n",
       "owner                                NaN  \n",
       "source                               NaN  \n",
       "generation_gwh_2013                  NaN  \n",
       "generation_gwh_2014                  NaN  \n",
       "generation_gwh_2015                  NaN  \n",
       "generation_gwh_2016                  NaN  \n",
       "generation_gwh_2017                  NaN  \n",
       "generation_gwh_2018                  NaN  \n",
       "generation_gwh_2019                  NaN  "
      ]
     },
     "execution_count": 43,
     "metadata": {},
     "output_type": "execute_result"
    }
   ],
   "source": [
    "df.corr()"
   ]
  },
  {
   "cell_type": "code",
   "execution_count": 44,
   "id": "fb360a68",
   "metadata": {},
   "outputs": [
    {
     "data": {
      "image/png": "[encoded data removed]",
      "text/plain": [
       "<Figure size 1296x432 with 2 Axes>"
      ]
     },
     "metadata": {
      "needs_background": "light"
     },
     "output_type": "display_data"
    }
   ],
   "source": [
    "# Plotting heatmap for the correlation table\n",
    "\n",
    "plt.figure(figsize=[18,6])\n",
    "sns.heatmap(round(df.corr()[1:].transpose(),2), annot=True, linewidths=0.25, linecolor='white', fmt='f')\n",
    "plt.title('Correlation Table')\n",
    "plt.show()\n"
   ]
  },
  {
   "cell_type": "raw",
   "id": "e2c9c5d6",
   "metadata": {},
   "source": [
    "\n",
    "Outcomes of Correlation table\n",
    "For 'capacity_mw' target column\n",
    "name column has 6% correlation with the target column 'capacity_mw'\n",
    "gppd_idnr has -33% correlation with the target column 'capacity_mw', which can be considered as very weak bond.\n",
    "latitude has 5% correlation with the target column 'capacity_mw'.\n",
    "longitude has 20% correlation with the target column 'capacity_mw'.\n",
    "primary_fuel has -38% correlation with the target column 'capacity_mw', which can be considered as very weak bond.\n",
    "other_fuel1 has 0% correlation with the target column.\n",
    "owner column has 30% correlation with the target column, which can be considered as strong bond.\n",
    "source has -24% correlation.(very weak bond)\n",
    "year_of_capacity_data has no values so we'll drop this column.\n",
    "generation_gwh_2013 has 67% correlation which can be considered as very strong bond.\n",
    "generation_gwh_2014 has 71% correlation which can be considered as very strong bond.\n",
    "generation_gwh_2015 has 72% correlation which can be considered as very strong bond.\n",
    "generation_gwh_2016 has 75% correlation which can be considerd as very strong bond.\n",
    "generation_gwh_2017 has 77% correlation which can be considered as very strong bond."
   ]
  },
  {
   "cell_type": "raw",
   "id": "a3a8d4e3",
   "metadata": {},
   "source": [
    "For 'primary_fuel' as target column\n",
    "name column has 4% correlation.\n",
    "gppd_idnr has 61% correlation which can be considered as very strong bond.\n",
    "capacity_mw has -38% correlation, which can be considerd as very weak bond.\n",
    "latitude has -1% correlation.\n",
    "longitude has -36% correlation which can be considerd as very weak bond.\n",
    "otherfuel1 has 0% correlation.\n",
    "owner has -26% correlation, which can be considered as very weak bond.\n",
    "source has 5% correlation.\n",
    "generation_gwh_2013 has -12% correlation.(weak bond)\n",
    "generation_gwh_2014 has -12% correlation. (weak bond)\n",
    "generation_gwh_2015 has -13% correlation. (weak bond)\n",
    "generation_gwh_2016 has -13% correlation. (weak bond)\n",
    "generation_gwh_2017 has -13% correlation. (weak bond)"
   ]
  },
  {
   "cell_type": "code",
   "execution_count": 45,
   "id": "70957bda",
   "metadata": {},
   "outputs": [],
   "source": [
    "# dropping the columns which are not contributing to the dataset\n",
    "\n",
    "df = df.drop('other_fuel1', axis=1)\n",
    "df = df.drop('year_of_capacity_data', axis=1)"
   ]
  },
  {
   "cell_type": "markdown",
   "id": "c189df77",
   "metadata": {},
   "source": [
    "# Checking for outliers and skewness:"
   ]
  },
  {
   "cell_type": "code",
   "execution_count": 46,
   "id": "3b7daba7",
   "metadata": {},
   "outputs": [],
   "source": [
    "# 'primary_fuel' as target variable:\n",
    "x = df.drop(['primary_fuel'],axis=1)\n",
    "y = df['primary_fuel']"
   ]
  },
  {
   "cell_type": "code",
   "execution_count": 47,
   "id": "2857fad5",
   "metadata": {},
   "outputs": [],
   "source": [
    "# 'capacity_mw' as target variable:\n",
    "\n",
    "x1 = df.drop(['capacity_mw'], axis=1)\n",
    "y1 = df['capacity_mw']"
   ]
  },
  {
   "cell_type": "code",
   "execution_count": 48,
   "id": "7e0babad",
   "metadata": {},
   "outputs": [
    {
     "data": {
      "text/plain": [
       "name                   0.000000\n",
       "gppd_idnr              0.000000\n",
       "capacity_mw            3.123576\n",
       "latitude              -0.164110\n",
       "longitude              1.163320\n",
       "commissioning_year    -1.650210\n",
       "owner                 -1.373940\n",
       "source                 1.827373\n",
       "generation_gwh_2013    0.000000\n",
       "generation_gwh_2014    5.035446\n",
       "generation_gwh_2015    5.364134\n",
       "generation_gwh_2016    5.068427\n",
       "generation_gwh_2017    5.110952\n",
       "generation_gwh_2018    4.937907\n",
       "generation_gwh_2019    0.000000\n",
       "dtype: float64"
      ]
     },
     "execution_count": 48,
     "metadata": {},
     "output_type": "execute_result"
    }
   ],
   "source": [
    "#cheking for skewness in x\n",
    "\n",
    "x.skew()"
   ]
  },
  {
   "cell_type": "raw",
   "id": "677898c6",
   "metadata": {},
   "source": [
    "Following columns have skewness:\n",
    "capacity_mw\n",
    "longitude\n",
    "commissioning_year\n",
    "source\n",
    "generation_gwh_2013\n",
    "generation_gwh_2014\n",
    "generation_gwh_2015\n",
    "generation_gwh_2016\n",
    "generation_gwh_2017\n",
    "generation_gwh_2018"
   ]
  },
  {
   "cell_type": "markdown",
   "id": "158dd039",
   "metadata": {},
   "source": [
    "# Remove the skewness"
   ]
  },
  {
   "cell_type": "code",
   "execution_count": 49,
   "id": "ac03a098",
   "metadata": {},
   "outputs": [
    {
     "data": {
      "text/plain": [
       "name                  -0.288179\n",
       "gppd_idnr             -0.288179\n",
       "capacity_mw            0.022164\n",
       "latitude              -0.076539\n",
       "longitude              0.002675\n",
       "commissioning_year    -0.409198\n",
       "owner                 -1.025314\n",
       "source                -0.214066\n",
       "generation_gwh_2013    0.000000\n",
       "generation_gwh_2014    0.123226\n",
       "generation_gwh_2015    0.074582\n",
       "generation_gwh_2016    0.041821\n",
       "generation_gwh_2017    0.018337\n",
       "generation_gwh_2018    0.000783\n",
       "generation_gwh_2019    0.000000\n",
       "dtype: float64"
      ]
     },
     "execution_count": 49,
     "metadata": {},
     "output_type": "execute_result"
    }
   ],
   "source": [
    "# Removing skewness from 'x'\n",
    "from sklearn.preprocessing import power_transform\n",
    "\n",
    "df_new = power_transform(x)\n",
    "\n",
    "df_new = pd.DataFrame(df_new, columns=x.columns)\n",
    "\n",
    "df_new.skew()"
   ]
  },
  {
   "cell_type": "markdown",
   "id": "b7f67780",
   "metadata": {},
   "source": [
    "# Standard Scaler"
   ]
  },
  {
   "cell_type": "code",
   "execution_count": 50,
   "id": "3635541b",
   "metadata": {},
   "outputs": [
    {
     "data": {
      "text/plain": [
       "array([[-1.73014221e+00,  7.79136890e-01, -5.48907549e-01, ...,\n",
       "        -1.55741196e-16,  1.50124402e-16,  0.00000000e+00],\n",
       "       [-1.72632291e+00,  2.52073700e-01, -3.86977292e-01, ...,\n",
       "        -1.55741196e-16,  1.50124402e-16,  0.00000000e+00],\n",
       "       [-1.72250361e+00,  1.52771939e+00, -4.86678853e-01, ...,\n",
       "        -1.55741196e-16,  1.50124402e-16,  0.00000000e+00],\n",
       "       ...,\n",
       "       [ 1.72250361e+00,  1.67285273e+00, -5.09908639e-01, ...,\n",
       "        -1.55741196e-16,  1.50124402e-16,  0.00000000e+00],\n",
       "       [ 1.72632291e+00,  3.28459669e-01, -4.17498178e-01, ...,\n",
       "        -1.55741196e-16,  1.50124402e-16,  0.00000000e+00],\n",
       "       [ 1.73014221e+00,  1.61556326e+00, -5.25169082e-01, ...,\n",
       "        -1.55741196e-16,  1.50124402e-16,  0.00000000e+00]])"
      ]
     },
     "execution_count": 50,
     "metadata": {},
     "output_type": "execute_result"
    }
   ],
   "source": [
    "from sklearn.preprocessing import StandardScaler\n",
    "scaler = StandardScaler()\n",
    "x = scaler.fit_transform(x)\n",
    "x"
   ]
  },
  {
   "cell_type": "markdown",
   "id": "12cbcb2f",
   "metadata": {},
   "source": [
    "# Handling data imbalance done by oversampling:"
   ]
  },
  {
   "cell_type": "code",
   "execution_count": 51,
   "id": "9ff7d06b",
   "metadata": {},
   "outputs": [],
   "source": [
    "from imblearn.over_sampling import SMOTE\n",
    "Sm = SMOTE()\n",
    "x_over, y_over = Sm.fit_resample(x,y)"
   ]
  },
  {
   "cell_type": "code",
   "execution_count": 52,
   "id": "68b612d2",
   "metadata": {},
   "outputs": [
    {
     "data": {
      "text/plain": [
       "6    258\n",
       "1    258\n",
       "7    258\n",
       "2    258\n",
       "3    258\n",
       "0    258\n",
       "5    258\n",
       "4    258\n",
       "Name: primary_fuel, dtype: int64"
      ]
     },
     "execution_count": 52,
     "metadata": {},
     "output_type": "execute_result"
    }
   ],
   "source": [
    "y_over.value_counts()"
   ]
  },
  {
   "cell_type": "markdown",
   "id": "60c6e2d7",
   "metadata": {},
   "source": [
    "# Model Training"
   ]
  },
  {
   "cell_type": "code",
   "execution_count": 53,
   "id": "f86ba95e",
   "metadata": {},
   "outputs": [],
   "source": [
    "from sklearn.model_selection import train_test_split\n",
    "x_train, x_test, y_train, y_test = train_test_split(x_over, y_over, test_size=0.30, random_state=212)"
   ]
  },
  {
   "cell_type": "markdown",
   "id": "e52654b7",
   "metadata": {},
   "source": [
    "# LogisticRegression:"
   ]
  },
  {
   "cell_type": "code",
   "execution_count": 54,
   "id": "5abba9d2",
   "metadata": {},
   "outputs": [
    {
     "name": "stdout",
     "output_type": "stream",
     "text": [
      "0.7661290322580645\n",
      "[[82  0  0  0  0  5  0  0]\n",
      " [11 36  7  4 10  3  1  0]\n",
      " [ 7  4 39 11  7 13  0  0]\n",
      " [ 0  7  8 45  3 12  0  0]\n",
      " [ 0  0  0  5 66  0  0  0]\n",
      " [14  0  0  7  0 51  0  0]\n",
      " [ 1  0  0  0  0  0 73  4]\n",
      " [ 0  0  0  0  0  0  1 83]]\n",
      "              precision    recall  f1-score   support\n",
      "\n",
      "           0       0.71      0.94      0.81        87\n",
      "           1       0.77      0.50      0.61        72\n",
      "           2       0.72      0.48      0.58        81\n",
      "           3       0.62      0.60      0.61        75\n",
      "           4       0.77      0.93      0.84        71\n",
      "           5       0.61      0.71      0.65        72\n",
      "           6       0.97      0.94      0.95        78\n",
      "           7       0.95      0.99      0.97        84\n",
      "\n",
      "    accuracy                           0.77       620\n",
      "   macro avg       0.77      0.76      0.75       620\n",
      "weighted avg       0.77      0.77      0.76       620\n",
      "\n"
     ]
    }
   ],
   "source": [
    "from sklearn.linear_model import LogisticRegression\n",
    "from sklearn.metrics import accuracy_score, classification_report, confusion_matrix\n",
    "lr = LogisticRegression()\n",
    "lr.fit(x_train,y_train)\n",
    "predlr = lr.predict(x_test)\n",
    "print(accuracy_score(y_test,predlr))\n",
    "print(confusion_matrix(y_test,predlr))\n",
    "print(classification_report(y_test,predlr))"
   ]
  },
  {
   "cell_type": "markdown",
   "id": "c5d18155",
   "metadata": {},
   "source": [
    "# RandomForestClassifier:"
   ]
  },
  {
   "cell_type": "code",
   "execution_count": 55,
   "id": "5aae2031",
   "metadata": {},
   "outputs": [
    {
     "name": "stdout",
     "output_type": "stream",
     "text": [
      "0.9193548387096774\n",
      "[[87  0  0  0  0  0  0  0]\n",
      " [ 8 49  6  3  4  2  0  0]\n",
      " [ 1  1 71  4  0  4  0  0]\n",
      " [ 0  5  7 61  2  0  0  0]\n",
      " [ 0  0  0  0 71  0  0  0]\n",
      " [ 2  0  0  0  0 70  0  0]\n",
      " [ 0  0  0  0  0  0 77  1]\n",
      " [ 0  0  0  0  0  0  0 84]]\n",
      "              precision    recall  f1-score   support\n",
      "\n",
      "           0       0.89      1.00      0.94        87\n",
      "           1       0.89      0.68      0.77        72\n",
      "           2       0.85      0.88      0.86        81\n",
      "           3       0.90      0.81      0.85        75\n",
      "           4       0.92      1.00      0.96        71\n",
      "           5       0.92      0.97      0.95        72\n",
      "           6       1.00      0.99      0.99        78\n",
      "           7       0.99      1.00      0.99        84\n",
      "\n",
      "    accuracy                           0.92       620\n",
      "   macro avg       0.92      0.92      0.91       620\n",
      "weighted avg       0.92      0.92      0.92       620\n",
      "\n"
     ]
    }
   ],
   "source": [
    "from sklearn.ensemble import RandomForestClassifier\n",
    "\n",
    "RF = RandomForestClassifier()\n",
    "RF.fit(x_train, y_train)\n",
    "predRF = RF.predict(x_test)\n",
    "print(accuracy_score(y_test, predRF))\n",
    "print(confusion_matrix(y_test, predRF))\n",
    "print(classification_report(y_test, predRF))"
   ]
  },
  {
   "cell_type": "markdown",
   "id": "af93ecf9",
   "metadata": {},
   "source": [
    "# DecisionTreeClassifier"
   ]
  },
  {
   "cell_type": "code",
   "execution_count": 56,
   "id": "c2f15a0f",
   "metadata": {},
   "outputs": [
    {
     "name": "stdout",
     "output_type": "stream",
     "text": [
      "0.8838709677419355\n",
      "[[85  1  1  0  0  0  0  0]\n",
      " [ 6 49  4  4  6  3  0  0]\n",
      " [ 1  8 61  6  0  5  0  0]\n",
      " [ 0  9  6 55  2  3  0  0]\n",
      " [ 0  0  0  0 71  0  0  0]\n",
      " [ 1  0  3  2  0 66  0  0]\n",
      " [ 0  0  0  0  0  0 77  1]\n",
      " [ 0  0  0  0  0  0  0 84]]\n",
      "              precision    recall  f1-score   support\n",
      "\n",
      "           0       0.91      0.98      0.94        87\n",
      "           1       0.73      0.68      0.71        72\n",
      "           2       0.81      0.75      0.78        81\n",
      "           3       0.82      0.73      0.77        75\n",
      "           4       0.90      1.00      0.95        71\n",
      "           5       0.86      0.92      0.89        72\n",
      "           6       1.00      0.99      0.99        78\n",
      "           7       0.99      1.00      0.99        84\n",
      "\n",
      "    accuracy                           0.88       620\n",
      "   macro avg       0.88      0.88      0.88       620\n",
      "weighted avg       0.88      0.88      0.88       620\n",
      "\n"
     ]
    }
   ],
   "source": [
    "from sklearn.tree import DecisionTreeClassifier\n",
    "\n",
    "dt = DecisionTreeClassifier()\n",
    "dt.fit(x_train, y_train)\n",
    "preddt = dt.predict(x_test)\n",
    "print(accuracy_score(y_test, preddt))\n",
    "print(confusion_matrix(y_test, preddt))\n",
    "print(classification_report(y_test, preddt))"
   ]
  },
  {
   "cell_type": "markdown",
   "id": "703e5a6f",
   "metadata": {},
   "source": [
    "# K-Nearest Neighbors:"
   ]
  },
  {
   "cell_type": "code",
   "execution_count": 57,
   "id": "bd12e45a",
   "metadata": {},
   "outputs": [
    {
     "name": "stdout",
     "output_type": "stream",
     "text": [
      "0.8403225806451613\n",
      "[[86  1  0  0  0  0  0  0]\n",
      " [11 37  7  4  8  3  2  0]\n",
      " [ 4  1 68  3  0  5  0  0]\n",
      " [ 0  7 11 43  1 12  0  1]\n",
      " [ 0  0  0  0 71  0  0  0]\n",
      " [ 5  0  3  0  0 64  0  0]\n",
      " [ 5  2  0  0  0  1 68  2]\n",
      " [ 0  0  0  0  0  0  0 84]]\n",
      "              precision    recall  f1-score   support\n",
      "\n",
      "           0       0.77      0.99      0.87        87\n",
      "           1       0.77      0.51      0.62        72\n",
      "           2       0.76      0.84      0.80        81\n",
      "           3       0.86      0.57      0.69        75\n",
      "           4       0.89      1.00      0.94        71\n",
      "           5       0.75      0.89      0.82        72\n",
      "           6       0.97      0.87      0.92        78\n",
      "           7       0.97      1.00      0.98        84\n",
      "\n",
      "    accuracy                           0.84       620\n",
      "   macro avg       0.84      0.83      0.83       620\n",
      "weighted avg       0.84      0.84      0.83       620\n",
      "\n"
     ]
    }
   ],
   "source": [
    "from sklearn.neighbors import KNeighborsClassifier\n",
    "\n",
    "knn = KNeighborsClassifier()\n",
    "knn.fit(x_train, y_train)\n",
    "predknn = knn.predict(x_test)\n",
    "\n",
    "print(accuracy_score(y_test, predknn))\n",
    "print(confusion_matrix(y_test, predknn))\n",
    "print(classification_report(y_test,predknn))"
   ]
  },
  {
   "cell_type": "markdown",
   "id": "7fcde250",
   "metadata": {},
   "source": [
    "# cross validation score:"
   ]
  },
  {
   "cell_type": "code",
   "execution_count": 58,
   "id": "66bab375",
   "metadata": {},
   "outputs": [
    {
     "name": "stdout",
     "output_type": "stream",
     "text": [
      "Cross validation score for LogisticRegression is  0.7618723817618844\n",
      "Cross validation score for RandomForest is 0.8533725942565722\n",
      "Cross validation score for DecisionTree is  0.7773966365126587\n",
      "Cross validation score for K-Nearest Neighbors is 0.7386861757027503\n"
     ]
    }
   ],
   "source": [
    "from sklearn.model_selection import cross_val_score\n",
    "\n",
    "scr = cross_val_score(lr,x,y,cv=5)\n",
    "print('Cross validation score for LogisticRegression is ',scr.mean())\n",
    "\n",
    "\n",
    "scr = cross_val_score(RF,x,y,cv=5)\n",
    "print('Cross validation score for RandomForest is', scr.mean())\n",
    "\n",
    "scr = cross_val_score(dt,x,y,cv=5)\n",
    "print('Cross validation score for DecisionTree is ', scr.mean())\n",
    "\n",
    "scr = cross_val_score(knn,x,y,cv=5)\n",
    "print('Cross validation score for K-Nearest Neighbors is', scr.mean())"
   ]
  },
  {
   "cell_type": "raw",
   "id": "f311fdf5",
   "metadata": {},
   "source": [
    "The minimum diffrence between the accuracy score and cross validation score is (4.63), which is of LogisticRegression.\n",
    "\n",
    "So, the best model for the dataset is LogisticRegression."
   ]
  },
  {
   "cell_type": "markdown",
   "id": "83da9d85",
   "metadata": {},
   "source": [
    "# Hyper parameter tuning:"
   ]
  },
  {
   "cell_type": "code",
   "execution_count": 59,
   "id": "9785e70b",
   "metadata": {},
   "outputs": [],
   "source": [
    "from sklearn.model_selection import GridSearchCV\n",
    "\n",
    "#Defining parameters\n",
    "\n",
    "params = {'random_state' : [5,7,9,11,13,15],\n",
    "          'max_iter':[1,10,50,100]}\n",
    "\n",
    "GCV=GridSearchCV(lr,params, verbose = 1, cv=3)"
   ]
  },
  {
   "cell_type": "code",
   "execution_count": 60,
   "id": "8447ce4c",
   "metadata": {},
   "outputs": [
    {
     "name": "stdout",
     "output_type": "stream",
     "text": [
      "Fitting 3 folds for each of 24 candidates, totalling 72 fits\n"
     ]
    },
    {
     "data": {
      "text/plain": [
       "GridSearchCV(cv=3, estimator=LogisticRegression(),\n",
       "             param_grid={'max_iter': [1, 10, 50, 100],\n",
       "                         'random_state': [5, 7, 9, 11, 13, 15]},\n",
       "             verbose=1)"
      ]
     },
     "execution_count": 60,
     "metadata": {},
     "output_type": "execute_result"
    }
   ],
   "source": [
    "GCV.fit(x_train,y_train)"
   ]
  },
  {
   "cell_type": "code",
   "execution_count": 61,
   "id": "aebb9016",
   "metadata": {},
   "outputs": [
    {
     "data": {
      "text/plain": [
       "{'max_iter': 50, 'random_state': 5}"
      ]
     },
     "execution_count": 61,
     "metadata": {},
     "output_type": "execute_result"
    }
   ],
   "source": [
    "# Finding the best parameter found by GridSearchCV\n",
    "\n",
    "GCV.best_params_"
   ]
  },
  {
   "cell_type": "code",
   "execution_count": 62,
   "id": "0f71f8d1",
   "metadata": {},
   "outputs": [
    {
     "name": "stdout",
     "output_type": "stream",
     "text": [
      "76.61290322580645\n",
      "              precision    recall  f1-score   support\n",
      "\n",
      "           0       0.71      0.94      0.81        87\n",
      "           1       0.77      0.50      0.61        72\n",
      "           2       0.72      0.48      0.58        81\n",
      "           3       0.62      0.60      0.61        75\n",
      "           4       0.77      0.93      0.84        71\n",
      "           5       0.61      0.71      0.65        72\n",
      "           6       0.97      0.94      0.95        78\n",
      "           7       0.95      0.99      0.97        84\n",
      "\n",
      "    accuracy                           0.77       620\n",
      "   macro avg       0.77      0.76      0.75       620\n",
      "weighted avg       0.77      0.77      0.76       620\n",
      "\n"
     ]
    }
   ],
   "source": [
    "model1 = LogisticRegression(max_iter = 100, random_state = 5)\n",
    "model1.fit(x_train, y_train)\n",
    "pred1 = model1.predict(x_test)\n",
    "\n",
    "print(accuracy_score(y_test,pred1)*100)\n",
    "print(classification_report(y_test,pred1))"
   ]
  },
  {
   "cell_type": "markdown",
   "id": "bf7a5f9b",
   "metadata": {},
   "source": [
    "# Model Saving"
   ]
  },
  {
   "cell_type": "code",
   "execution_count": 63,
   "id": "6d745410",
   "metadata": {},
   "outputs": [],
   "source": [
    "import pickle\n",
    "filename = 'global_power_plant_fueltype.pkl'\n",
    "pickle.dump(model1, open(filename, 'wb'))"
   ]
  },
  {
   "cell_type": "markdown",
   "id": "0848837b",
   "metadata": {},
   "source": [
    "# Conclusion"
   ]
  },
  {
   "cell_type": "code",
   "execution_count": 64,
   "id": "86db50c6",
   "metadata": {},
   "outputs": [
    {
     "data": {
      "text/html": [
       "<div>\n",
       "<style scoped>\n",
       "    .dataframe tbody tr th:only-of-type {\n",
       "        vertical-align: middle;\n",
       "    }\n",
       "\n",
       "    .dataframe tbody tr th {\n",
       "        vertical-align: top;\n",
       "    }\n",
       "\n",
       "    .dataframe thead th {\n",
       "        text-align: right;\n",
       "    }\n",
       "</style>\n",
       "<table border=\"1\" class=\"dataframe\">\n",
       "  <thead>\n",
       "    <tr style=\"text-align: right;\">\n",
       "      <th></th>\n",
       "      <th>Original</th>\n",
       "      <th>Predicted</th>\n",
       "    </tr>\n",
       "  </thead>\n",
       "  <tbody>\n",
       "    <tr>\n",
       "      <th>0</th>\n",
       "      <td>1</td>\n",
       "      <td>1</td>\n",
       "    </tr>\n",
       "    <tr>\n",
       "      <th>1</th>\n",
       "      <td>6</td>\n",
       "      <td>6</td>\n",
       "    </tr>\n",
       "    <tr>\n",
       "      <th>2</th>\n",
       "      <td>6</td>\n",
       "      <td>6</td>\n",
       "    </tr>\n",
       "    <tr>\n",
       "      <th>3</th>\n",
       "      <td>7</td>\n",
       "      <td>7</td>\n",
       "    </tr>\n",
       "    <tr>\n",
       "      <th>4</th>\n",
       "      <td>4</td>\n",
       "      <td>4</td>\n",
       "    </tr>\n",
       "    <tr>\n",
       "      <th>...</th>\n",
       "      <td>...</td>\n",
       "      <td>...</td>\n",
       "    </tr>\n",
       "    <tr>\n",
       "      <th>615</th>\n",
       "      <td>3</td>\n",
       "      <td>2</td>\n",
       "    </tr>\n",
       "    <tr>\n",
       "      <th>616</th>\n",
       "      <td>4</td>\n",
       "      <td>4</td>\n",
       "    </tr>\n",
       "    <tr>\n",
       "      <th>617</th>\n",
       "      <td>2</td>\n",
       "      <td>5</td>\n",
       "    </tr>\n",
       "    <tr>\n",
       "      <th>618</th>\n",
       "      <td>6</td>\n",
       "      <td>0</td>\n",
       "    </tr>\n",
       "    <tr>\n",
       "      <th>619</th>\n",
       "      <td>0</td>\n",
       "      <td>0</td>\n",
       "    </tr>\n",
       "  </tbody>\n",
       "</table>\n",
       "<p>620 rows × 2 columns</p>\n",
       "</div>"
      ],
      "text/plain": [
       "     Original  Predicted\n",
       "0           1          1\n",
       "1           6          6\n",
       "2           6          6\n",
       "3           7          7\n",
       "4           4          4\n",
       "..        ...        ...\n",
       "615         3          2\n",
       "616         4          4\n",
       "617         2          5\n",
       "618         6          0\n",
       "619         0          0\n",
       "\n",
       "[620 rows x 2 columns]"
      ]
     },
     "execution_count": 64,
     "metadata": {},
     "output_type": "execute_result"
    }
   ],
   "source": [
    "a = np.array(y_test)\n",
    "predicted = np.array(model1.predict(x_test))\n",
    "df_conclusion = pd.DataFrame({\"Original\":a, \"Predicted\":predicted}, index=range(len(a)))\n",
    "\n",
    "df_conclusion"
   ]
  },
  {
   "cell_type": "markdown",
   "id": "3b3d005a",
   "metadata": {},
   "source": [
    "# prediction of  the capacity_mw"
   ]
  },
  {
   "cell_type": "code",
   "execution_count": 65,
   "id": "45286a81",
   "metadata": {},
   "outputs": [
    {
     "data": {
      "text/plain": [
       "name                   0.000000\n",
       "gppd_idnr              0.000000\n",
       "latitude              -0.164110\n",
       "longitude              1.163320\n",
       "primary_fuel           0.472251\n",
       "commissioning_year    -1.650210\n",
       "owner                 -1.373940\n",
       "source                 1.827373\n",
       "generation_gwh_2013    0.000000\n",
       "generation_gwh_2014    5.035446\n",
       "generation_gwh_2015    5.364134\n",
       "generation_gwh_2016    5.068427\n",
       "generation_gwh_2017    5.110952\n",
       "generation_gwh_2018    4.937907\n",
       "generation_gwh_2019    0.000000\n",
       "dtype: float64"
      ]
     },
     "execution_count": 65,
     "metadata": {},
     "output_type": "execute_result"
    }
   ],
   "source": [
    "#checking for the skewness in the x1.\n",
    "\n",
    "x1.skew()"
   ]
  },
  {
   "cell_type": "code",
   "execution_count": 66,
   "id": "a8020f6b",
   "metadata": {},
   "outputs": [
    {
     "data": {
      "text/plain": [
       "name                  -0.288179\n",
       "gppd_idnr             -0.288179\n",
       "latitude              -0.076539\n",
       "longitude              0.002675\n",
       "primary_fuel          -0.047067\n",
       "commissioning_year    -0.409198\n",
       "owner                 -1.025314\n",
       "source                -0.214066\n",
       "generation_gwh_2013    0.000000\n",
       "generation_gwh_2014    0.123226\n",
       "generation_gwh_2015    0.074582\n",
       "generation_gwh_2016    0.041821\n",
       "generation_gwh_2017    0.018337\n",
       "generation_gwh_2018    0.000783\n",
       "generation_gwh_2019    0.000000\n",
       "dtype: float64"
      ]
     },
     "execution_count": 66,
     "metadata": {},
     "output_type": "execute_result"
    }
   ],
   "source": [
    "# Removing the skewness using power_transform technique\n",
    "\n",
    "from sklearn.preprocessing import power_transform\n",
    "\n",
    "df_new1 = power_transform(x1)\n",
    "\n",
    "df_new1 = pd.DataFrame(df_new1, columns=x1.columns)\n",
    "\n",
    "df_new1.skew()"
   ]
  },
  {
   "cell_type": "markdown",
   "id": "a451d9fa",
   "metadata": {},
   "source": [
    "# Standard Scaler"
   ]
  },
  {
   "cell_type": "code",
   "execution_count": 67,
   "id": "bda0faa6",
   "metadata": {},
   "outputs": [
    {
     "data": {
      "text/plain": [
       "array([[-1.73014221e+00,  7.79136890e-01,  1.14470912e+00, ...,\n",
       "        -1.55741196e-16,  1.50124402e-16,  0.00000000e+00],\n",
       "       [-1.72632291e+00,  2.52073700e-01,  5.82338454e-01, ...,\n",
       "        -1.55741196e-16,  1.50124402e-16,  0.00000000e+00],\n",
       "       [-1.72250361e+00,  1.52771939e+00,  1.11310238e-01, ...,\n",
       "        -1.55741196e-16,  1.50124402e-16,  0.00000000e+00],\n",
       "       ...,\n",
       "       [ 1.72250361e+00,  1.67285273e+00, -9.79336056e-01, ...,\n",
       "        -1.55741196e-16,  1.50124402e-16,  0.00000000e+00],\n",
       "       [ 1.72632291e+00,  3.28459669e-01,  5.13835731e-01, ...,\n",
       "        -1.55741196e-16,  1.50124402e-16,  0.00000000e+00],\n",
       "       [ 1.73014221e+00,  1.61556326e+00, -1.85827059e+00, ...,\n",
       "        -1.55741196e-16,  1.50124402e-16,  0.00000000e+00]])"
      ]
     },
     "execution_count": 67,
     "metadata": {},
     "output_type": "execute_result"
    }
   ],
   "source": [
    "from sklearn.preprocessing import StandardScaler\n",
    "scaler = StandardScaler()\n",
    "x1 = scaler.fit_transform(x1)\n",
    "x1"
   ]
  },
  {
   "cell_type": "markdown",
   "id": "d7fd0e74",
   "metadata": {},
   "source": [
    "# Model Training"
   ]
  },
  {
   "cell_type": "code",
   "execution_count": 68,
   "id": "0ca226cb",
   "metadata": {},
   "outputs": [],
   "source": [
    "x1_train, x1_test, y1_train, y1_test = train_test_split(x1, y1, test_size=0.2, random_state=42)"
   ]
  },
  {
   "cell_type": "markdown",
   "id": "b62fee13",
   "metadata": {},
   "source": [
    "# 1. LinerRegression:"
   ]
  },
  {
   "cell_type": "code",
   "execution_count": 69,
   "id": "a49e2002",
   "metadata": {},
   "outputs": [
    {
     "name": "stdout",
     "output_type": "stream",
     "text": [
      "Linear coefficients : [ 3.54165405e+01 -9.94323128e+01  4.04882602e+00 -1.73460168e+01\n",
      " -7.33856730e+01  8.84223941e+01  8.86147661e+01 -8.98054903e+01\n",
      "  1.98951966e-13  1.01531857e+02 -1.23312615e+02  7.04131192e+01\n",
      " -4.91489782e+01  4.43599026e+02  0.00000000e+00]\n",
      "Intercept : 329.27489819835415\n"
     ]
    },
    {
     "data": {
      "text/plain": [
       "array([ 3.37172946e+02,  2.03365164e+02, -1.29416258e+02,  1.21926128e+02,\n",
       "        4.47354625e+02,  2.72030352e+02, -7.93325503e+01, -6.53993079e+01,\n",
       "        4.60569176e+02,  1.98476541e+02,  2.16184332e+02,  2.80864111e+02,\n",
       "       -1.53908462e+02,  1.18064797e+02,  1.32417485e+02,  1.05131713e+02,\n",
       "       -4.00691035e+01,  3.56491922e+02,  7.19236490e+02,  2.20181387e+02,\n",
       "       -9.03691026e+01, -4.50740933e+01, -1.54560194e+02,  2.85373919e+02,\n",
       "        1.84869046e+02,  6.35579648e+01,  1.05848581e+03, -4.42402799e+01,\n",
       "       -1.55138178e+02,  2.26522659e+02,  3.08589188e+02,  3.25441085e+02,\n",
       "        4.14604673e+02,  6.24673589e+02,  2.90731307e+02, -6.37647195e+01,\n",
       "       -1.11852469e+02,  2.82066329e+02,  4.85967678e+02,  1.22601308e+02,\n",
       "        1.64272211e+02,  4.01079276e+02,  4.94581525e+02,  2.41866004e+02,\n",
       "        1.09084852e+02,  7.35940561e+02,  2.59812505e+02,  1.36092279e+02,\n",
       "        4.40716044e+02, -1.37157569e+01,  1.45092029e+02,  4.84022675e+02,\n",
       "        8.86149835e+01,  8.73772527e+02,  2.31569816e+02,  1.03935137e+02,\n",
       "        1.59077432e+02,  1.79667125e+02,  8.90981499e+01, -9.80759986e+01,\n",
       "        1.60386772e+02,  1.23415752e+03,  2.09708814e+02,  4.90132817e+02,\n",
       "       -6.74360919e+01,  1.98349551e+02,  3.34712752e+02,  2.53849745e+01,\n",
       "        2.15381807e+02,  3.29635391e+02,  3.91313412e+02,  8.52130096e+01,\n",
       "        2.92184190e+02,  8.96882324e+01,  1.15605462e+03,  7.61834972e+02,\n",
       "        2.97560412e+02,  1.12707234e+03, -9.74980513e+01,  1.42415575e+02,\n",
       "        7.66543130e+01,  8.97167372e+01,  1.20537509e+02,  4.05567702e+02,\n",
       "        2.82329667e+01,  5.20036379e+02,  3.38788666e+02,  2.86482928e+02,\n",
       "        6.05663305e+02, -7.27242589e+01,  4.47585193e+01,  5.34683425e+02,\n",
       "        1.49176669e+02, -1.54950641e+02,  9.86898094e+01,  5.04373578e+02,\n",
       "        1.74629536e+02, -4.09245945e+01,  3.20716143e+02,  1.48022796e+02,\n",
       "        1.91626365e+02,  1.22611504e+02,  1.58138363e+03,  4.99117589e+02,\n",
       "        2.26085710e+02,  4.50985353e+00,  1.12790588e+03, -4.81330430e+01,\n",
       "        3.24171038e+02,  2.77972000e+02, -9.87534241e+01, -5.83460098e+01,\n",
       "        2.97139254e+02,  1.08097845e+03,  2.40207097e+02,  1.80178656e+02,\n",
       "        8.46536540e+02,  1.99352320e+01,  4.89866674e+02,  6.57300245e+02,\n",
       "        1.07464529e+02, -1.26968683e+02,  1.37313272e+02, -3.26976748e+02,\n",
       "        1.48739480e+02, -1.05012029e+02,  1.39633092e+03,  5.36486292e+02,\n",
       "        1.93839543e+02,  1.95624043e+02,  2.62220075e+02,  1.06306947e+03,\n",
       "        1.63258711e+02,  2.64093663e+02,  7.96201739e+01,  3.77034945e+02,\n",
       "        1.50791352e+02,  3.52278645e+01,  1.00375474e+02,  2.00355042e+02,\n",
       "       -7.14883320e+01,  3.18001104e+02,  1.71738386e+02,  6.83820982e+02,\n",
       "        2.25433467e+02, -7.34139492e+01,  3.89762620e+02,  1.34236192e+03,\n",
       "       -5.35054017e+01,  2.33327102e+02,  3.85917442e+02, -1.43969997e+02,\n",
       "        1.80689344e+02,  1.08574570e+02,  2.58715586e+02,  5.11063903e+02,\n",
       "        1.77762836e+02, -1.27567098e+00,  1.21196518e+02,  7.75361562e+01,\n",
       "        2.26639301e+03,  4.07049116e+02,  2.92912041e+02,  1.97112887e+02,\n",
       "        3.50494468e+02,  5.25602178e+03,  4.25305865e+02,  4.82705324e+02,\n",
       "        4.46961355e+02,  1.77807765e+02,  1.48953346e+02,  1.34015705e+03,\n",
       "        4.60887261e+02, -9.09545846e+01,  1.96297710e+02,  1.12987071e+03,\n",
       "        1.20647432e+03,  1.54925232e+02,  1.28068844e+03,  5.45361828e+02,\n",
       "        4.60402073e+02, -9.54484439e+01])"
      ]
     },
     "execution_count": 69,
     "metadata": {},
     "output_type": "execute_result"
    }
   ],
   "source": [
    "from sklearn.linear_model import LinearRegression\n",
    "LR = LinearRegression( fit_intercept = True)\n",
    "\n",
    "LR.fit(x1_train, y1_train)\n",
    "print(f\"Linear coefficients : {LR.coef_}\")\n",
    "print(f\"Intercept : {LR.intercept_}\")\n",
    "\n",
    "y1_pred = LR.predict(x1_test)\n",
    "y1_pred"
   ]
  },
  {
   "cell_type": "markdown",
   "id": "de22bd91",
   "metadata": {},
   "source": [
    "# 2. Ridge Regression:"
   ]
  },
  {
   "cell_type": "code",
   "execution_count": 70,
   "id": "65f208ac",
   "metadata": {},
   "outputs": [
    {
     "name": "stdout",
     "output_type": "stream",
     "text": [
      "Ridge Coefficients : [  35.29220026  -99.37398511    4.05856061  -17.31228674  -73.41281631\n",
      "   88.41009729   88.57483541  -89.75183099    0.           99.68061717\n",
      " -119.3402955    68.04757928  -39.78797344  434.3491975     0.        ]\n",
      "Intercept : 329.2348611615667\n"
     ]
    },
    {
     "data": {
      "text/plain": [
       "array([ 3.36904903e+02,  2.03264530e+02, -1.29362338e+02,  1.20949442e+02,\n",
       "        4.47103346e+02,  2.71746741e+02, -7.94329887e+01, -6.52866414e+01,\n",
       "        4.59190070e+02,  1.98538647e+02,  2.16227751e+02,  2.80715671e+02,\n",
       "       -1.53656199e+02,  1.18339515e+02,  1.32331854e+02,  1.05011778e+02,\n",
       "       -3.98727630e+01,  3.54829791e+02,  7.11104157e+02,  2.20052626e+02,\n",
       "       -9.02090804e+01, -4.49655938e+01, -1.54267549e+02,  2.85582539e+02,\n",
       "        1.84963754e+02,  6.35144237e+01,  1.05876389e+03, -4.42416327e+01,\n",
       "       -1.55073215e+02,  2.26485680e+02,  3.08888117e+02,  3.25673202e+02,\n",
       "        4.18023225e+02,  6.21017694e+02,  2.88860962e+02, -6.31614917e+01,\n",
       "       -1.11718915e+02,  2.85120818e+02,  4.85848178e+02,  1.22744460e+02,\n",
       "        1.64438830e+02,  4.01163830e+02,  4.95399593e+02,  2.41844259e+02,\n",
       "        1.08920182e+02,  7.32027602e+02,  2.57405307e+02,  1.36405932e+02,\n",
       "        4.38445125e+02, -1.36474990e+01,  1.44997665e+02,  4.83858963e+02,\n",
       "        8.85571986e+01,  8.78519302e+02,  2.31535325e+02,  1.04024262e+02,\n",
       "        1.59308063e+02,  1.79886750e+02,  8.92890076e+01, -9.82146136e+01,\n",
       "        1.60314370e+02,  1.23425057e+03,  2.09703717e+02,  4.90404773e+02,\n",
       "       -6.72519508e+01,  1.98556136e+02,  3.34420680e+02,  2.52607525e+01,\n",
       "        2.15114144e+02,  3.29873553e+02,  3.91198747e+02,  8.51214133e+01,\n",
       "        2.90941426e+02,  8.95027048e+01,  1.15410164e+03,  7.59115482e+02,\n",
       "        2.96840382e+02,  1.12442954e+03, -9.75695038e+01,  1.41737964e+02,\n",
       "        7.66187682e+01,  8.98606674e+01,  1.20765689e+02,  4.05884401e+02,\n",
       "        2.86210514e+01,  5.20229853e+02,  3.38175443e+02,  2.86217911e+02,\n",
       "        6.09283692e+02, -7.26913745e+01,  4.47529111e+01,  5.34463382e+02,\n",
       "        1.49412297e+02, -1.54664657e+02,  9.85537519e+01,  5.04165238e+02,\n",
       "        1.74402168e+02, -4.09229555e+01,  3.20600450e+02,  1.47093371e+02,\n",
       "        1.95336671e+02,  1.22519977e+02,  1.57491189e+03,  4.97987488e+02,\n",
       "        2.25939991e+02,  4.35360163e+00,  1.12207409e+03, -4.81279144e+01,\n",
       "        3.23575782e+02,  2.77689146e+02, -9.86058337e+01, -5.83210761e+01,\n",
       "        2.97661144e+02,  1.07982022e+03,  2.40353861e+02,  1.80197119e+02,\n",
       "        8.44887838e+02,  2.00172666e+01,  4.89545693e+02,  6.57182002e+02,\n",
       "        1.07298276e+02, -1.26725186e+02,  1.37488314e+02, -3.26801371e+02,\n",
       "        1.48835125e+02, -1.04874941e+02,  1.38962711e+03,  5.40422068e+02,\n",
       "        1.93875153e+02,  1.95652278e+02,  2.62668251e+02,  1.06575788e+03,\n",
       "        1.63117473e+02,  2.63945356e+02,  7.97363406e+01,  3.77401498e+02,\n",
       "        1.48652714e+02,  3.54525299e+01,  1.00256297e+02,  2.00865430e+02,\n",
       "       -7.14935410e+01,  3.17995723e+02,  1.71597243e+02,  6.82047021e+02,\n",
       "        2.25176036e+02, -7.33710097e+01,  3.86963065e+02,  1.34327217e+03,\n",
       "       -4.55432089e+01,  2.33269346e+02,  3.85178379e+02, -1.43687403e+02,\n",
       "        1.80779988e+02,  1.07087823e+02,  2.58590326e+02,  5.10887528e+02,\n",
       "        1.77661027e+02, -1.04664469e+00,  1.21467698e+02,  7.75175168e+01,\n",
       "        2.26074301e+03,  4.07034839e+02,  2.92591265e+02,  1.97235931e+02,\n",
       "        3.50556502e+02,  5.25771851e+03,  4.25015295e+02,  4.81338402e+02,\n",
       "        4.47672720e+02,  1.77849449e+02,  1.48765978e+02,  1.33729983e+03,\n",
       "        4.60741016e+02, -9.12045376e+01,  1.96506256e+02,  1.13281174e+03,\n",
       "        1.20522983e+03,  1.56533346e+02,  1.27916262e+03,  5.45205852e+02,\n",
       "        4.60931165e+02, -9.51316169e+01])"
      ]
     },
     "execution_count": 70,
     "metadata": {},
     "output_type": "execute_result"
    }
   ],
   "source": [
    "# Importing the library\n",
    "from sklearn.linear_model import Ridge\n",
    "\n",
    "rid = Ridge(alpha=0.5)\n",
    "rid.fit(x1_train,y1_train)\n",
    "\n",
    "print(f\"Ridge Coefficients : {rid.coef_}\")\n",
    "print(f\"Intercept : {rid.intercept_}\")\n",
    "\n",
    "rid_pred = rid.predict(x1_test)\n",
    "\n",
    "rid_pred"
   ]
  },
  {
   "cell_type": "markdown",
   "id": "13026b56",
   "metadata": {},
   "source": [
    "# 3. RandomForestRegressor:"
   ]
  },
  {
   "cell_type": "code",
   "execution_count": 71,
   "id": "6af416b2",
   "metadata": {},
   "outputs": [
    {
     "data": {
      "text/plain": [
       "array([ 164.93490687,  107.64064778,  146.39998195,  146.39998195,\n",
       "        110.31012707,  107.64064778,  146.39998195,  107.64064778,\n",
       "        164.93490687,  107.64064778,  107.64064778,  107.64064778,\n",
       "        107.64064778,  107.64064778,  146.39998195,  107.64064778,\n",
       "        107.64064778,  164.93490687, 1286.01034478,  110.31012707,\n",
       "        107.64064778,  107.64064778,  107.64064778,  164.93490687,\n",
       "        107.64064778,  107.64064778, 1357.5863598 ,  107.64064778,\n",
       "        107.64064778,  107.64064778,  485.57592375,  164.93490687,\n",
       "        169.92120747,  164.93490687,  164.93490687,  146.39998195,\n",
       "        146.39998195,  164.93490687,  110.31012707,  107.64064778,\n",
       "        107.64064778,  164.93490687,  164.93490687,  164.93490687,\n",
       "        107.64064778,  164.93490687,  485.57592375,  107.64064778,\n",
       "        164.93490687,  107.64064778,  107.64064778,  110.31012707,\n",
       "        107.64064778, 1350.05169401,  107.64064778,  146.39998195,\n",
       "        107.64064778,  107.64064778,  146.39998195,  146.39998195,\n",
       "        107.64064778, 1367.35953137,  107.64064778,  164.93490687,\n",
       "        107.64064778,  107.64064778,  110.31012707,  107.64064778,\n",
       "        107.64064778,  146.39998195,  110.31012707,  107.64064778,\n",
       "        164.93490687,  110.31012707, 1357.5863598 ,  442.41379664,\n",
       "        164.93490687, 1343.81151438,  146.39998195,  146.39998195,\n",
       "        146.39998195,  126.1755727 ,  107.64064778,  164.93490687,\n",
       "        146.39998195,  164.93490687,  164.93490687,  107.64064778,\n",
       "        581.91636351,  107.64064778,  146.39998195,  128.84505199,\n",
       "        107.64064778,  107.64064778,  146.39998195,  110.31012707,\n",
       "        107.64064778,  146.39998195,  164.93490687,  146.39998195,\n",
       "        176.89678555,  146.39998195, 1391.08948754,  527.89833439,\n",
       "        164.93490687,  107.64064778, 1357.5863598 ,  146.39998195,\n",
       "        164.93490687,  164.93490687,  107.64064778,  146.39998195,\n",
       "        146.39998195, 1357.5863598 ,  107.64064778,  107.64064778,\n",
       "       1323.21672561,  146.39998195,  110.31012707,  164.93490687,\n",
       "        107.64064778,  107.64064778,  107.64064778,  107.64064778,\n",
       "        107.64064778,  146.39998195, 1391.08948754, 1332.15168048,\n",
       "        107.64064778,  107.64064778,  164.93490687, 1367.35953137,\n",
       "        164.93490687,  107.64064778,  146.39998195,  164.93490687,\n",
       "        146.39998195,  146.39998195,  107.64064778,  164.93490687,\n",
       "        107.64064778,  110.31012707,  146.39998195,  164.93490687,\n",
       "        107.64064778,  107.64064778,  164.93490687, 1376.31289933,\n",
       "        139.40824107,  107.64064778,  164.93490687,  107.64064778,\n",
       "        107.64064778,  146.39998195,  107.64064778,  110.31012707,\n",
       "        107.64064778,  107.64064778,  107.64064778,  146.39998195,\n",
       "       2031.63335183,  110.31012707,  164.93490687,  107.64064778,\n",
       "        110.31012707, 3104.23316669,  110.31012707,  164.93490687,\n",
       "        164.93490687,  158.94575709,  146.39998195, 1400.86265911,\n",
       "        110.31012707,  146.39998195,  107.64064778, 1400.86265911,\n",
       "       1400.86265911,  164.93490687, 1376.19865637,  128.84505199,\n",
       "        808.41122262,  126.1755727 ])"
      ]
     },
     "execution_count": 71,
     "metadata": {},
     "output_type": "execute_result"
    }
   ],
   "source": [
    "from sklearn.ensemble import RandomForestRegressor\n",
    "RF = RandomForestRegressor(max_depth=2, random_state=0)\n",
    "\n",
    "RF.fit(x1_train,y1_train)\n",
    "\n",
    "rf_pred = RF.predict(x1_test) \n",
    "rf_pred\n"
   ]
  },
  {
   "cell_type": "markdown",
   "id": "46c23d50",
   "metadata": {},
   "source": [
    "# 4. KNeighborsRegressor"
   ]
  },
  {
   "cell_type": "code",
   "execution_count": 72,
   "id": "3903a558",
   "metadata": {},
   "outputs": [
    {
     "data": {
      "text/plain": [
       "array([1.764000e+02, 3.292500e+01, 7.765000e+01, 1.380000e+02,\n",
       "       5.300000e+00, 1.360000e+01, 2.055000e+02, 1.160000e+01,\n",
       "       4.200000e+02, 1.475000e+02, 9.250000e+01, 1.000000e+02,\n",
       "       2.000000e+01, 2.140000e+01, 1.000000e+02, 1.620000e+01,\n",
       "       1.160000e+01, 5.010000e+02, 3.024000e+02, 9.150000e+00,\n",
       "       1.000000e+01, 5.490000e+01, 3.000000e+00, 2.600000e+02,\n",
       "       1.530000e+02, 2.250000e+01, 8.000000e+02, 7.000000e+01,\n",
       "       1.080000e+01, 3.525000e+01, 7.408900e+02, 8.250000e+01,\n",
       "       4.775000e+02, 6.250000e+01, 1.305000e+02, 8.110000e+01,\n",
       "       1.248250e+02, 3.900000e+02, 5.000000e+00, 3.250000e+01,\n",
       "       8.000000e+01, 2.600000e+02, 4.476000e+02, 3.000000e+01,\n",
       "       6.000000e+00, 1.850000e+02, 2.750000e+02, 1.950000e+01,\n",
       "       3.254570e+02, 2.250000e+01, 3.430000e+01, 1.450000e+01,\n",
       "       6.450000e+00, 1.200000e+03, 1.700000e+01, 5.450000e+01,\n",
       "       8.325000e+01, 1.500000e+01, 1.584775e+02, 1.410000e+02,\n",
       "       4.800000e+01, 9.750000e+02, 2.600000e+01, 2.157500e+02,\n",
       "       1.500000e+00, 2.450000e+01, 3.420000e+02, 1.170000e+01,\n",
       "       3.795000e+01, 2.059775e+02, 8.000000e+00, 3.645000e+01,\n",
       "       6.750000e+02, 4.900000e+00, 1.000000e+03, 9.050000e+02,\n",
       "       7.872855e+02, 1.150000e+03, 1.155000e+02, 4.835000e+02,\n",
       "       4.840000e+01, 5.125000e+01, 1.047500e+02, 1.310000e+02,\n",
       "       2.100000e+02, 3.000000e+02, 4.226000e+02, 7.520000e+01,\n",
       "       5.500000e+02, 3.000000e+01, 1.920000e+02, 3.022500e+02,\n",
       "       4.025000e+01, 1.510000e+01, 1.185000e+02, 1.600000e+01,\n",
       "       9.375000e+00, 1.800000e+02, 7.750000e+01, 9.000000e+01,\n",
       "       4.226000e+02, 1.350000e+02, 1.220000e+03, 3.380000e+02,\n",
       "       1.850000e+02, 2.227500e+01, 9.300000e+02, 5.900000e+01,\n",
       "       8.000000e+02, 9.900000e+01, 1.160000e+01, 1.750000e+02,\n",
       "       2.750000e+02, 1.450000e+03, 9.550000e+01, 2.600000e+01,\n",
       "       5.200000e+02, 8.400000e+01, 9.000000e+00, 4.050000e+02,\n",
       "       6.000000e+00, 5.000000e+00, 2.000000e+01, 1.550000e+00,\n",
       "       3.000000e+01, 2.750000e+02, 1.210000e+03, 5.025000e+02,\n",
       "       6.810000e+01, 6.210000e+01, 1.850000e+02, 1.205000e+03,\n",
       "       1.470000e+02, 7.725000e+01, 5.500000e+01, 2.900000e+02,\n",
       "       1.750000e+02, 4.573000e+02, 1.620000e+01, 1.005000e+02,\n",
       "       8.000000e+00, 5.650000e+02, 2.650000e+02, 3.550000e+02,\n",
       "       5.825000e+01, 3.000000e+01, 1.145000e+02, 1.200000e+03,\n",
       "       1.058500e+02, 2.025000e+01, 2.157500e+02, 5.000000e+00,\n",
       "       2.065000e+01, 1.155000e+02, 4.200000e+01, 1.450000e+01,\n",
       "       2.300000e+01, 3.630000e+01, 3.650000e+01, 1.200000e+02,\n",
       "       2.630000e+03, 1.875000e+01, 1.044400e+02, 3.375000e+01,\n",
       "       1.752500e+02, 3.980000e+03, 3.420000e+02, 4.060100e+02,\n",
       "       3.756500e+02, 1.725000e+02, 7.687500e+01, 1.445000e+03,\n",
       "       1.800000e+01, 1.155000e+02, 2.600000e+01, 1.370000e+03,\n",
       "       9.300000e+02, 4.650000e+01, 1.425000e+03, 1.650000e+01,\n",
       "       7.670000e+02, 6.400000e+01])"
      ]
     },
     "execution_count": 72,
     "metadata": {},
     "output_type": "execute_result"
    }
   ],
   "source": [
    "from sklearn.neighbors import KNeighborsRegressor\n",
    "\n",
    "KNN = KNeighborsRegressor(n_neighbors=2)\n",
    "KNN.fit(x1_train, y1_train)\n",
    "\n",
    "knn_pred = KNN.predict(x1_test)\n",
    "knn_pred"
   ]
  },
  {
   "cell_type": "markdown",
   "id": "7c3c91d9",
   "metadata": {},
   "source": [
    "# Root Mean Squared Error:"
   ]
  },
  {
   "cell_type": "code",
   "execution_count": 73,
   "id": "c979c982",
   "metadata": {},
   "outputs": [
    {
     "name": "stdout",
     "output_type": "stream",
     "text": [
      "Root Mean Squared Error for LinearRegression is : 262.6812548897619\n",
      "Root Mean Squared Error for Ridge Regression is : 262.6949087340385\n",
      "Root Mean Squared Error for RandomForestRegressor is : 280.5806070112656\n",
      "Root Mean Squared Error for KNeighborsRegressor is : 257.268953556334\n"
     ]
    }
   ],
   "source": [
    "from sklearn import metrics\n",
    "rmse_LR = np.sqrt(metrics.mean_squared_error(y1_test, y1_pred))\n",
    "rmse_Ridge = np.sqrt(metrics.mean_squared_error(y1_test, rid_pred))\n",
    "rmse_RF = np.sqrt(metrics.mean_squared_error(y1_test, rf_pred))\n",
    "rmse_KNN = np.sqrt(metrics.mean_squared_error(y1_test, knn_pred))\n",
    "print('Root Mean Squared Error for LinearRegression is :', rmse_LR)\n",
    "print('Root Mean Squared Error for Ridge Regression is :', rmse_Ridge)\n",
    "print('Root Mean Squared Error for RandomForestRegressor is :', rmse_RF)\n",
    "print('Root Mean Squared Error for KNeighborsRegressor is :', rmse_KNN)"
   ]
  },
  {
   "cell_type": "markdown",
   "id": "22f17fbf",
   "metadata": {},
   "source": [
    "# R-Squred"
   ]
  },
  {
   "cell_type": "code",
   "execution_count": 74,
   "id": "9896cf05",
   "metadata": {},
   "outputs": [
    {
     "name": "stdout",
     "output_type": "stream",
     "text": [
      "R2 Score for LinearRegression is : 0.7736089647377125\n",
      "R2 Score for Ridge_Regression is : 0.7735854290782809\n",
      "R2 Score for RandomForestRegressor is : 0.7417047844936173\n",
      "R2 score for KNeighborsRegressor is : 0.7828420061961714\n"
     ]
    }
   ],
   "source": [
    "from sklearn.metrics import r2_score\n",
    "print('R2 Score for LinearRegression is :', r2_score(y1_test, y1_pred))\n",
    "print('R2 Score for Ridge_Regression is :', r2_score(y1_test, rid_pred))\n",
    "print('R2 Score for RandomForestRegressor is :', r2_score(y1_test, rf_pred))\n",
    "print('R2 score for KNeighborsRegressor is :', r2_score(y1_test, knn_pred))"
   ]
  },
  {
   "cell_type": "markdown",
   "id": "0847c4b0",
   "metadata": {},
   "source": [
    "R2 Score closest to 1.0 is considered as best. From the above observation we can that RandomForestRegressor have the closest value i.e. 0.83. So, this is the best model"
   ]
  },
  {
   "cell_type": "markdown",
   "id": "2fbb5d67",
   "metadata": {},
   "source": [
    "Also RandomForestRegressor has the lowest Root Mean Squared error (RMSE). So, from both the observations we can say that the best fit model id RandomForestRegressor."
   ]
  },
  {
   "cell_type": "markdown",
   "id": "ffa64d25",
   "metadata": {},
   "source": [
    "# Model Saving"
   ]
  },
  {
   "cell_type": "code",
   "execution_count": 75,
   "id": "ca6abaec",
   "metadata": {},
   "outputs": [],
   "source": [
    "import pickle\n",
    "filename = 'global_power_plant_capacity_mw.pkl'\n",
    "pickle.dump(RF, open(filename,'wb'))"
   ]
  },
  {
   "cell_type": "code",
   "execution_count": null,
   "id": "4c6ae414",
   "metadata": {},
   "outputs": [],
   "source": []
  }
 ],
 "metadata": {
  "kernelspec": {
   "display_name": "Python 3 (ipykernel)",
   "language": "python",
   "name": "python3"
  },
  "language_info": {
   "codemirror_mode": {
    "name": "ipython",
    "version": 3
   },
   "file_extension": ".py",
   "mimetype": "text/x-python",
   "name": "python",
   "nbconvert_exporter": "python",
   "pygments_lexer": "ipython3",
   "version": "3.9.12"
  }
 },
 "nbformat": 4,
 "nbformat_minor": 5
}
